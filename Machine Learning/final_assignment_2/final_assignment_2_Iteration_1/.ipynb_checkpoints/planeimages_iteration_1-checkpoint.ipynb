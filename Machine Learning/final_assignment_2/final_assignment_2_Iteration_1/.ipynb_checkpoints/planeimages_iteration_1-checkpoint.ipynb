{
 "cells": [
  {
   "cell_type": "code",
   "execution_count": 1,
   "metadata": {},
   "outputs": [],
   "source": [
    "import numpy as np\n",
    "import pandas as pd\n",
    "import matplotlib.pyplot as plt\n",
    "import pickle\n",
    "import warnings\n",
    "warnings.filterwarnings(\"ignore\", message=\"numpy.ufunc size changed\")\n",
    "from skimage import io, color, transform, feature\n",
    "import sys\n",
    "sys.path.append('..')\n",
    "from my_measures import BinaryClassificationPerformance  \n",
    "from sklearn.model_selection import train_test_split\n",
    "%matplotlib inline"
   ]
  },
  {
   "cell_type": "markdown",
   "metadata": {},
   "source": [
    "### IMPORTANT!!! Make sure you are using BinaryClassificationPerformance v1.03\n"
   ]
  },
  {
   "cell_type": "code",
   "execution_count": 2,
   "metadata": {},
   "outputs": [
    {
     "name": "stdout",
     "output_type": "stream",
     "text": [
      "Help on class BinaryClassificationPerformance in module my_measures:\n",
      "\n",
      "class BinaryClassificationPerformance(builtins.object)\n",
      " |  BinaryClassificationPerformance(predictions, labels, desc, probabilities=None)\n",
      " |  \n",
      " |  Performance measures to evaluate the fit of a binary classification model, v1.03\n",
      " |  \n",
      " |  Methods defined here:\n",
      " |  \n",
      " |  __init__(self, predictions, labels, desc, probabilities=None)\n",
      " |      Initialize attributes: predictions-vector of predicted values for Y, labels-vector of labels for Y\n",
      " |  \n",
      " |  compute_measures(self)\n",
      " |      Compute performance measures defined by Flach p. 57\n",
      " |  \n",
      " |  img_indices(self)\n",
      " |      Get the indices of true and false positives to be able to locate the corresponding images in a list of image names\n",
      " |  \n",
      " |  ----------------------------------------------------------------------\n",
      " |  Data descriptors defined here:\n",
      " |  \n",
      " |  __dict__\n",
      " |      dictionary for instance variables (if defined)\n",
      " |  \n",
      " |  __weakref__\n",
      " |      list of weak references to the object (if defined)\n",
      "\n"
     ]
    }
   ],
   "source": [
    "help(BinaryClassificationPerformance)"
   ]
  },
  {
   "cell_type": "markdown",
   "metadata": {},
   "source": [
    "### file paths and names"
   ]
  },
  {
   "cell_type": "code",
   "execution_count": 3,
   "metadata": {},
   "outputs": [],
   "source": [
    "ci_path = '../plane_data/cropped_images/' # file path for cropped images for training\n",
    "l_file = '../plane_data/plane_labels.csv' # file path and file name for csv with labels"
   ]
  },
  {
   "cell_type": "markdown",
   "metadata": {},
   "source": [
    "# Function for feature building and extraction on photographs¶\n",
    "\n",
    "scikit-image documentation on methods used for feature extraction:  \n",
    "\n",
    "* http://scikit-image.org/docs/dev/api/skimage.color.html#rgb2gray  \n",
    "* http://scikit-image.org/docs/dev/api/skimage.transform.html#skimage.transform.resize  \n",
    "* http://scikit-image.org/docs/stable/api/skimage.feature.html#skimage.feature.canny"
   ]
  },
  {
   "cell_type": "code",
   "execution_count": 4,
   "metadata": {},
   "outputs": [],
   "source": [
    "# in downscaling the image, what do you want the new dimensions to be?\n",
    "# the original dimensions of cropped images: (60, 140), which if 8,400 pixels\n",
    "dims = (15, 35) # 25% of the original size, 525 pixels"
   ]
  },
  {
   "cell_type": "code",
   "execution_count": 5,
   "metadata": {},
   "outputs": [
    {
     "name": "stdout",
     "output_type": "stream",
     "text": [
      "downscaled image shape: \n",
      "(15, 35)\n",
      "image representation (first row of pixels): \n",
      "[False False False False False False False False False False False False\n",
      " False False False False False False False False False False False False\n",
      " False False False False False False False False False False False]\n",
      "\n",
      "\n",
      "example of gray image: \n"
     ]
    },
    {
     "data": {
      "image/png": "[encoded data removed]",
      "text/plain": [
       "<Figure size 640x480 with 1 Axes>"
      ]
     },
     "metadata": {},
     "output_type": "display_data"
    }
   ],
   "source": [
    "def image_manipulation(imname, imgs_path, imview=False):\n",
    "    warnings.filterwarnings('ignore')\n",
    "    imname = imgs_path + imname + '.png'\n",
    "    img_raw = io.imread(imname, as_gray=True)\n",
    "    downscaled = transform.resize(img_raw, (dims[0], dims[1])) # downscale image\n",
    "    final_image = feature.canny(downscaled) # edge filter image with Canny algorithm\n",
    "    if imview==True:\n",
    "        io.imshow(final_image)\n",
    "    warnings.filterwarnings('always')\n",
    "    return final_image\n",
    "\n",
    "# test the function, look at input/output\n",
    "test_image = image_manipulation('2017-08-25T23+24+13_390Z', ci_path, True)\n",
    "print('downscaled image shape: ')\n",
    "print(test_image.shape)\n",
    "print('image representation (first row of pixels): ')\n",
    "print(test_image[0])\n",
    "print('\\n')\n",
    "print('example of gray image: ')"
   ]
  },
  {
   "cell_type": "code",
   "execution_count": 6,
   "metadata": {},
   "outputs": [],
   "source": [
    "# def image_manipulation_hog(imname, imgs_path, imview=False):\n",
    "#     warnings.filterwarnings('ignore')\n",
    "#     imname = imgs_path + imname + '.png'\n",
    "#     img_raw = io.imread(imname, as_gray=True)\n",
    "#     downscaled = transform.resize(img_raw, (dims[0], dims[1])) # downscale image\n",
    "#     final_image, hog_image = feature.hog(downscaled, orientations=9, \n",
    "#                                          pixels_per_cell=(5, 5), cells_per_block=(2, 2), \n",
    "#                                          block_norm='L2-Hys', visualize=True, channel_axis=None\n",
    "#                                         ) # apply HOG descriptor\n",
    "#     if imview==True:\n",
    "#         io.imshow(hog_image)\n",
    "#     warnings.filterwarnings('always')\n",
    "#     return final_image\n",
    "\n",
    "# # test the function, look at input/output\n",
    "# test_image = image_manipulation_hog('2017-08-25T23+24+13_390Z', ci_path, True)\n",
    "# print('downscaled image shape: ')\n",
    "# print(test_image.shape)\n",
    "# print('image representation (first row of pixels): ')\n",
    "# print(test_image[0])\n",
    "# print('\\n')\n",
    "# print('example of transformation: ')"
   ]
  },
  {
   "cell_type": "code",
   "execution_count": 7,
   "metadata": {},
   "outputs": [
    {
     "name": "stdout",
     "output_type": "stream",
     "text": [
      "downscaled image shape: \n",
      "(15, 35)\n",
      "number of corner positions: \n",
      "(11, 2)\n",
      "\n",
      "\n",
      "example of transformation: \n"
     ]
    },
    {
     "data": {
      "image/png": "[encoded data removed]",
      "text/plain": [
       "<Figure size 640x480 with 2 Axes>"
      ]
     },
     "metadata": {},
     "output_type": "display_data"
    },
    {
     "data": {
      "image/png": "[encoded data removed]",
      "text/plain": [
       "<Figure size 640x480 with 1 Axes>"
      ]
     },
     "metadata": {},
     "output_type": "display_data"
    }
   ],
   "source": [
    "def image_manipulation_corner(imname, imgs_path, imview=False, visualize=True):\n",
    "    warnings.filterwarnings('ignore')\n",
    "    imname = imgs_path + imname + '.png'\n",
    "    img_raw = io.imread(imname, as_gray=True)\n",
    "    downscaled = transform.resize(img_raw, (dims[0], dims[1])) # downscale image\n",
    "    harris_image = feature.corner_harris(downscaled) # compute Harris corner measure response image\n",
    "    coords = feature.corner_peaks(harris_image, min_distance=1, threshold_rel=0.001)\n",
    "    coords_subpix = feature.corner_subpix(downscaled, coords, window_size=13)\n",
    "    if imview==True:\n",
    "        io.imshow(harris_image)\n",
    "    warnings.filterwarnings('always')\n",
    "    if visualize==True:\n",
    "        return harris_image, coords_subpix\n",
    "    else:\n",
    "        return coords_subpix\n",
    "\n",
    "# test the function, look at input/output\n",
    "test_image, corner_positions = image_manipulation_corner('2017-08-25T23+24+13_390Z', ci_path, True)\n",
    "print('downscaled image shape: ')\n",
    "print(test_image.shape)\n",
    "print('number of corner positions: ')\n",
    "print(corner_positions.shape)\n",
    "print('\\n')\n",
    "print('example of transformation: ')\n",
    "\n",
    "fig, ax = plt.subplots()\n",
    "ax.imshow(test_image, cmap=plt.cm.gray)\n",
    "ax.plot(corner_positions[:, 1], corner_positions[:, 0], '+r', markersize=15)\n",
    "ax.axis((0, dims[1], dims[0], 0))\n",
    "plt.show()"
   ]
  },
  {
   "cell_type": "markdown",
   "metadata": {},
   "source": [
    "for comparison, look at original image:"
   ]
  },
  {
   "cell_type": "code",
   "execution_count": 8,
   "metadata": {},
   "outputs": [],
   "source": [
    "# this_imname = ci_path + '2017-08-25T23+24+13_390Z.png'\n",
    "# io.imshow(io.imread(this_imname))"
   ]
  },
  {
   "cell_type": "markdown",
   "metadata": {},
   "source": [
    "# function to process raw images, resulting in training and test datasets"
   ]
  },
  {
   "cell_type": "code",
   "execution_count": 9,
   "metadata": {},
   "outputs": [],
   "source": [
    "# function that takes raw images and completes all preprocessing required before model fits\n",
    "def process_raw_data(labels_fn, images_fp, my_random_seed, imview=False, test=False):\n",
    "    plane_data = pd.read_csv(labels_fn) # read in photograph labels\n",
    "    print(\"First few lines of image labels: \")\n",
    "    print(plane_data.head())\n",
    "    print(\"Size of image label dataFrame: \")\n",
    "    print(plane_data.shape)\n",
    "        \n",
    "    # construct lists for features, labels, and a crosswalk reference to image names\n",
    "    features_list = []\n",
    "    features_list_1 = []\n",
    "    features_list_2 = []\n",
    "    if (not test):\n",
    "        y_list = []\n",
    "    imnames_list = []\n",
    "\n",
    "    for index, row in plane_data.iterrows():\n",
    "#         features_list.append(image_manipulation_corner(row['img_name'], images_fp))\n",
    "#         hog_image = image_manipulation_hog(row['img_name'], images_fp)\n",
    "        harris_image, corner_positions = image_manipulation_corner(row['img_name'], images_fp)\n",
    "        features_list.append(harris_image)\n",
    "#         features_list_1.append(harris_image)\n",
    "        if (not test):\n",
    "            y_list.append(row['plane'])\n",
    "        imnames_list.append(row['img_name'])\n",
    "    \n",
    "    # convert the lists to ndarrays\n",
    "    features = np.asarray(features_list)\n",
    "    if(len(features_list_1) > 0):\n",
    "        features_1 = np.asarray(features_list_1)\n",
    "    if (not test):\n",
    "        Y = np.asarray(y_list)\n",
    "    imgs = np.asarray(imnames_list)\n",
    "    print('Shape of original feature representation: ')\n",
    "    print(features.shape)\n",
    "\n",
    "    # flatten the images ndarray to one row per image\n",
    "    features_flat = features.reshape((features.shape[0], -1))\n",
    "    if(len(features_list_1) > 0):\n",
    "        print(features_1.shape)\n",
    "        features_flat_1 = features_1.reshape((features_1.shape[0], -1))\n",
    "\n",
    "    print('Shape of flat feature representation: ')\n",
    "    print(features_flat.shape)\n",
    "    if(len(features_list_1) > 0):\n",
    "        print(features_flat_1.shape)\n",
    "        features_flat = np.concatenate((features_flat, features_flat_1), axis=1)\n",
    "        print(features_flat.shape)\n",
    "\n",
    "    if (not test):\n",
    "        print('Shape of Y: ')\n",
    "        print(Y.shape)\n",
    "\n",
    "        print('Number of images with planes: ')\n",
    "        print(Y.sum())\n",
    "    \n",
    "        # create train and test sets\n",
    "        data_train, data_test, y_train, y_test, imgs_train, imgs_test = train_test_split(features_flat, \n",
    "            Y, imgs, test_size = 0.25, random_state = my_random_seed)\n",
    "\n",
    "        print('Shape of training set: ')\n",
    "        print(y_train.shape)\n",
    "        print('Number of training images that contain an airplane: ')\n",
    "        print(y_train.sum())\n",
    "\n",
    "        print('Shape of test set: ')\n",
    "        print(y_test.shape)\n",
    "        print('Number of test images that contain an airplane: ')\n",
    "        print(y_test.sum())\n",
    "    \n",
    "    if (test):\n",
    "        X_submission_test = features_flat\n",
    "        print(\"Shape of X_test for submission:\")\n",
    "        print(X_submission_test.shape)\n",
    "        print('SUCCESS!')\n",
    "        return(X_submission_test, plane_data)\n",
    "    else: \n",
    "        print(\"Shape of data_train and data_test:\")\n",
    "        print(data_train.shape)\n",
    "        print(data_test.shape)\n",
    "        print(\"Shape of y_train and y_test:\")\n",
    "        print(y_train.shape)\n",
    "        print(y_test.shape)\n",
    "        print(\"Shape of imgs_train and imgs_test:\")\n",
    "        print(imgs_train.shape)\n",
    "        print(imgs_test.shape)\n",
    "        print('SUCCESS!')\n",
    "        return(data_train, data_test, y_train, y_test, imgs_train, imgs_test)\n"
   ]
  },
  {
   "cell_type": "code",
   "execution_count": 10,
   "metadata": {},
   "outputs": [
    {
     "name": "stdout",
     "output_type": "stream",
     "text": [
      "First few lines of image labels: \n",
      "                   img_name  plane\n",
      "0  2016-08-02T13+50+24_430Z  False\n",
      "1  2016-08-02T14+12+37_390Z  False\n",
      "2  2016-08-02T22+20+26_600Z  False\n",
      "3  2016-08-03T12+04+30_670Z  False\n",
      "4  2016-08-03T12+32+21_790Z  False\n",
      "Size of image label dataFrame: \n",
      "(6758, 2)\n",
      "Shape of original feature representation: \n",
      "(6758, 15, 35)\n",
      "Shape of flat feature representation: \n",
      "(6758, 525)\n",
      "Shape of Y: \n",
      "(6758,)\n",
      "Number of images with planes: \n",
      "101\n",
      "Shape of training set: \n",
      "(5068,)\n",
      "Number of training images that contain an airplane: \n",
      "79\n",
      "Shape of test set: \n",
      "(1690,)\n",
      "Number of test images that contain an airplane: \n",
      "22\n",
      "Shape of data_train and data_test:\n",
      "(5068, 525)\n",
      "(1690, 525)\n",
      "Shape of y_train and y_test:\n",
      "(5068,)\n",
      "(1690,)\n",
      "Shape of imgs_train and imgs_test:\n",
      "(5068,)\n",
      "(1690,)\n",
      "SUCCESS!\n"
     ]
    }
   ],
   "source": [
    "data_train, data_test, y_train, y_test, imgs_train, imgs_test = process_raw_data(l_file, ci_path, \n",
    "    my_random_seed=713, imview=False, test=False)"
   ]
  },
  {
   "cell_type": "markdown",
   "metadata": {},
   "source": [
    "# train Multilayer Perceptron, a.k.a. neural network"
   ]
  },
  {
   "cell_type": "code",
   "execution_count": 11,
   "metadata": {},
   "outputs": [],
   "source": [
    "# MODEL: Multi-layer Perceptron aka neural network\n",
    "from sklearn import neural_network\n",
    "np.random.seed(0)\n",
    "\n",
    "# preset of different hidden layer structures\n",
    "hidden_layer_presets = [[10,5],[100,50],[1000,500],[50,50,50],[500,500,500],[100,75,50,25],[10,10,10,10,10]]\n",
    "\n",
    "def NumlistToString(nums):\n",
    "    newStr = '['\n",
    "    for i, num in enumerate(nums):\n",
    "        if(i < len(nums) - 1):\n",
    "            newStr += str(num) + ','\n",
    "        else:\n",
    "            newStr += str(num)\n",
    "    newStr += ']'\n",
    "    return newStr"
   ]
  },
  {
   "cell_type": "code",
   "execution_count": 12,
   "metadata": {},
   "outputs": [
    {
     "name": "stdout",
     "output_type": "stream",
     "text": [
      "TRAINING SET: \n",
      "{'Pos': 79, 'Neg': 4989, 'TP': 75, 'TN': 4989, 'FP': 0, 'FN': 4, 'Accuracy': 0.9992107340173638, 'Precision': 1.0, 'Recall': 0.9493670886075949, 'desc': 'nn_0([10,5])', 'set': 'train'}\n",
      "TEST SET: \n",
      "{'Pos': 22, 'Neg': 1668, 'TP': 15, 'TN': 1659, 'FP': 9, 'FN': 7, 'Accuracy': 0.9905325443786982, 'Precision': 0.625, 'Recall': 0.6818181818181818, 'desc': 'nn_0([10,5])', 'set': 'test'}\n"
     ]
    }
   ],
   "source": [
    "nn0 = neural_network.MLPClassifier(hidden_layer_sizes=hidden_layer_presets[0], max_iter=1000)\n",
    "nn0.fit(data_train, y_train)\n",
    "\n",
    "nn0_performance = BinaryClassificationPerformance(nn0.predict(data_train), y_train, 'nn_0('+ NumlistToString(hidden_layer_presets[0]) + ')')\n",
    "nn0_performance.compute_measures()\n",
    "nn0_performance.performance_measures['set'] = 'train'\n",
    "print('TRAINING SET: ')\n",
    "print(nn0_performance.performance_measures)\n",
    "\n",
    "nn0_performance_test = BinaryClassificationPerformance(nn0.predict(data_test), y_test, 'nn_0('+ NumlistToString(hidden_layer_presets[0]) + ')')\n",
    "nn0_performance_test.compute_measures()\n",
    "nn0_performance_test.performance_measures['set'] = 'test'\n",
    "print('TEST SET: ')\n",
    "print(nn0_performance_test.performance_measures)\n",
    "\n",
    "nn0_performance_test.img_indices()\n",
    "nn0_img_indices_to_view = nn0_performance_test.image_indices"
   ]
  },
  {
   "cell_type": "code",
   "execution_count": 13,
   "metadata": {},
   "outputs": [
    {
     "name": "stdout",
     "output_type": "stream",
     "text": [
      "TRAINING SET: \n",
      "{'Pos': 79, 'Neg': 4989, 'TP': 78, 'TN': 4989, 'FP': 0, 'FN': 1, 'Accuracy': 0.999802683504341, 'Precision': 1.0, 'Recall': 0.9873417721518988, 'desc': 'nn_1([100,50])', 'set': 'train'}\n",
      "TEST SET: \n",
      "{'Pos': 22, 'Neg': 1668, 'TP': 17, 'TN': 1656, 'FP': 12, 'FN': 5, 'Accuracy': 0.9899408284023669, 'Precision': 0.5862068965517241, 'Recall': 0.7727272727272727, 'desc': 'nn_1([100,50])', 'set': 'test'}\n"
     ]
    }
   ],
   "source": [
    "nn1 = neural_network.MLPClassifier(hidden_layer_sizes=hidden_layer_presets[1], max_iter=1000)\n",
    "nn1.fit(data_train, y_train)\n",
    "\n",
    "nn1_performance = BinaryClassificationPerformance(nn1.predict(data_train), y_train, 'nn_1('+ NumlistToString(hidden_layer_presets[1]) + ')')\n",
    "nn1_performance.compute_measures()\n",
    "nn1_performance.performance_measures['set'] = 'train'\n",
    "print('TRAINING SET: ')\n",
    "print(nn1_performance.performance_measures)\n",
    "\n",
    "nn1_performance_test = BinaryClassificationPerformance(nn1.predict(data_test), y_test, 'nn_1('+ NumlistToString(hidden_layer_presets[1]) + ')')\n",
    "nn1_performance_test.compute_measures()\n",
    "nn1_performance_test.performance_measures['set'] = 'test'\n",
    "print('TEST SET: ')\n",
    "print(nn1_performance_test.performance_measures)\n",
    "\n",
    "nn1_performance_test.img_indices()\n",
    "nn1_img_indices_to_view = nn1_performance_test.image_indices"
   ]
  },
  {
   "cell_type": "code",
   "execution_count": 14,
   "metadata": {},
   "outputs": [
    {
     "name": "stdout",
     "output_type": "stream",
     "text": [
      "TRAINING SET: \n",
      "{'Pos': 79, 'Neg': 4989, 'TP': 79, 'TN': 4989, 'FP': 0, 'FN': 0, 'Accuracy': 1.0, 'Precision': 1.0, 'Recall': 1.0, 'desc': 'nn_2([1000,500])', 'set': 'train'}\n",
      "TEST SET: \n",
      "{'Pos': 22, 'Neg': 1668, 'TP': 18, 'TN': 1660, 'FP': 8, 'FN': 4, 'Accuracy': 0.9928994082840237, 'Precision': 0.6923076923076923, 'Recall': 0.8181818181818182, 'desc': 'nn_2([1000,500])', 'set': 'test'}\n"
     ]
    }
   ],
   "source": [
    "nn2 = neural_network.MLPClassifier(hidden_layer_sizes=hidden_layer_presets[2], max_iter=1000)\n",
    "nn2.fit(data_train, y_train)\n",
    "\n",
    "nn2_performance = BinaryClassificationPerformance(nn2.predict(data_train), y_train, 'nn_2('+ NumlistToString(hidden_layer_presets[2]) + ')')\n",
    "nn2_performance.compute_measures()\n",
    "nn2_performance.performance_measures['set'] = 'train'\n",
    "print('TRAINING SET: ')\n",
    "print(nn2_performance.performance_measures)\n",
    "\n",
    "nn2_performance_test = BinaryClassificationPerformance(nn2.predict(data_test), y_test, 'nn_2('+ NumlistToString(hidden_layer_presets[2]) + ')')\n",
    "nn2_performance_test.compute_measures()\n",
    "nn2_performance_test.performance_measures['set'] = 'test'\n",
    "print('TEST SET: ')\n",
    "print(nn2_performance_test.performance_measures)\n",
    "\n",
    "nn2_performance_test.img_indices()\n",
    "nn2_img_indices_to_view = nn2_performance_test.image_indices"
   ]
  },
  {
   "cell_type": "code",
   "execution_count": 15,
   "metadata": {},
   "outputs": [
    {
     "name": "stdout",
     "output_type": "stream",
     "text": [
      "TRAINING SET: \n",
      "{'Pos': 79, 'Neg': 4989, 'TP': 79, 'TN': 4989, 'FP': 0, 'FN': 0, 'Accuracy': 1.0, 'Precision': 1.0, 'Recall': 1.0, 'desc': 'nn_3([50,50,50])', 'set': 'train'}\n",
      "TEST SET: \n",
      "{'Pos': 22, 'Neg': 1668, 'TP': 18, 'TN': 1657, 'FP': 11, 'FN': 4, 'Accuracy': 0.9911242603550295, 'Precision': 0.6206896551724138, 'Recall': 0.8181818181818182, 'desc': 'nn_3([50,50,50])', 'set': 'test'}\n"
     ]
    }
   ],
   "source": [
    "nn3 = neural_network.MLPClassifier(hidden_layer_sizes=hidden_layer_presets[3], max_iter=1000)\n",
    "nn3.fit(data_train, y_train)\n",
    "\n",
    "nn3_performance = BinaryClassificationPerformance(nn3.predict(data_train), y_train, 'nn_3('+ NumlistToString(hidden_layer_presets[3]) + ')')\n",
    "nn3_performance.compute_measures()\n",
    "nn3_performance.performance_measures['set'] = 'train'\n",
    "print('TRAINING SET: ')\n",
    "print(nn3_performance.performance_measures)\n",
    "\n",
    "nn3_performance_test = BinaryClassificationPerformance(nn3.predict(data_test), y_test, 'nn_3('+ NumlistToString(hidden_layer_presets[3]) + ')')\n",
    "nn3_performance_test.compute_measures()\n",
    "nn3_performance_test.performance_measures['set'] = 'test'\n",
    "print('TEST SET: ')\n",
    "print(nn3_performance_test.performance_measures)\n",
    "\n",
    "nn3_performance_test.img_indices()\n",
    "nn3_img_indices_to_view = nn3_performance_test.image_indices"
   ]
  },
  {
   "cell_type": "code",
   "execution_count": 16,
   "metadata": {},
   "outputs": [
    {
     "name": "stdout",
     "output_type": "stream",
     "text": [
      "TRAINING SET: \n",
      "{'Pos': 79, 'Neg': 4989, 'TP': 78, 'TN': 4989, 'FP': 0, 'FN': 1, 'Accuracy': 0.999802683504341, 'Precision': 1.0, 'Recall': 0.9873417721518988, 'desc': 'nn_4([500,500,500])', 'set': 'train'}\n",
      "TEST SET: \n",
      "{'Pos': 22, 'Neg': 1668, 'TP': 17, 'TN': 1662, 'FP': 6, 'FN': 5, 'Accuracy': 0.993491124260355, 'Precision': 0.7391304347826086, 'Recall': 0.7727272727272727, 'desc': 'nn_4([500,500,500])', 'set': 'test'}\n"
     ]
    }
   ],
   "source": [
    "nn4 = neural_network.MLPClassifier(hidden_layer_sizes=hidden_layer_presets[4], max_iter=1000)\n",
    "nn4.fit(data_train, y_train)\n",
    "\n",
    "nn4_performance = BinaryClassificationPerformance(nn4.predict(data_train), y_train, 'nn_4('+ NumlistToString(hidden_layer_presets[4]) + ')')\n",
    "nn4_performance.compute_measures()\n",
    "nn4_performance.performance_measures['set'] = 'train'\n",
    "print('TRAINING SET: ')\n",
    "print(nn4_performance.performance_measures)\n",
    "\n",
    "nn4_performance_test = BinaryClassificationPerformance(nn4.predict(data_test), y_test, 'nn_4('+ NumlistToString(hidden_layer_presets[4]) + ')')\n",
    "nn4_performance_test.compute_measures()\n",
    "nn4_performance_test.performance_measures['set'] = 'test'\n",
    "print('TEST SET: ')\n",
    "print(nn4_performance_test.performance_measures)\n",
    "\n",
    "nn4_performance_test.img_indices()\n",
    "nn4_img_indices_to_view = nn4_performance_test.image_indices"
   ]
  },
  {
   "cell_type": "code",
   "execution_count": 17,
   "metadata": {},
   "outputs": [
    {
     "name": "stdout",
     "output_type": "stream",
     "text": [
      "TRAINING SET: \n",
      "{'Pos': 79, 'Neg': 4989, 'TP': 79, 'TN': 4989, 'FP': 0, 'FN': 0, 'Accuracy': 1.0, 'Precision': 1.0, 'Recall': 1.0, 'desc': 'nn_5([100,75,50,25])', 'set': 'train'}\n",
      "TEST SET: \n",
      "{'Pos': 22, 'Neg': 1668, 'TP': 19, 'TN': 1658, 'FP': 10, 'FN': 3, 'Accuracy': 0.9923076923076923, 'Precision': 0.6551724137931034, 'Recall': 0.8636363636363636, 'desc': 'nn_5([100,75,50,25])', 'set': 'test'}\n"
     ]
    }
   ],
   "source": [
    "nn5 = neural_network.MLPClassifier(hidden_layer_sizes=hidden_layer_presets[5], max_iter=1000)\n",
    "nn5.fit(data_train, y_train)\n",
    "\n",
    "nn5_performance = BinaryClassificationPerformance(nn5.predict(data_train), y_train, 'nn_5('+ NumlistToString(hidden_layer_presets[5]) + ')')\n",
    "nn5_performance.compute_measures()\n",
    "nn5_performance.performance_measures['set'] = 'train'\n",
    "print('TRAINING SET: ')\n",
    "print(nn5_performance.performance_measures)\n",
    "\n",
    "nn5_performance_test = BinaryClassificationPerformance(nn5.predict(data_test), y_test, 'nn_5('+ NumlistToString(hidden_layer_presets[5]) + ')')\n",
    "nn5_performance_test.compute_measures()\n",
    "nn5_performance_test.performance_measures['set'] = 'test'\n",
    "print('TEST SET: ')\n",
    "print(nn5_performance_test.performance_measures)\n",
    "\n",
    "nn5_performance_test.img_indices()\n",
    "nn5_img_indices_to_view = nn5_performance_test.image_indices"
   ]
  },
  {
   "cell_type": "code",
   "execution_count": 18,
   "metadata": {},
   "outputs": [
    {
     "name": "stdout",
     "output_type": "stream",
     "text": [
      "TRAINING SET: \n",
      "{'Pos': 79, 'Neg': 4989, 'TP': 78, 'TN': 4989, 'FP': 0, 'FN': 1, 'Accuracy': 0.999802683504341, 'Precision': 1.0, 'Recall': 0.9873417721518988, 'desc': 'nn_6([10,10,10,10,10])', 'set': 'train'}\n",
      "TEST SET: \n",
      "{'Pos': 22, 'Neg': 1668, 'TP': 16, 'TN': 1659, 'FP': 9, 'FN': 6, 'Accuracy': 0.9911242603550295, 'Precision': 0.64, 'Recall': 0.7272727272727273, 'desc': 'nn_6([10,10,10,10,10])', 'set': 'test'}\n"
     ]
    }
   ],
   "source": [
    "nn6 = neural_network.MLPClassifier(hidden_layer_sizes=hidden_layer_presets[6], max_iter=1000)\n",
    "nn6.fit(data_train, y_train)\n",
    "\n",
    "nn6_performance = BinaryClassificationPerformance(nn6.predict(data_train), y_train, 'nn_6('+ NumlistToString(hidden_layer_presets[6]) + ')')\n",
    "nn6_performance.compute_measures()\n",
    "nn6_performance.performance_measures['set'] = 'train'\n",
    "print('TRAINING SET: ')\n",
    "print(nn6_performance.performance_measures)\n",
    "\n",
    "nn6_performance_test = BinaryClassificationPerformance(nn6.predict(data_test), y_test, 'nn_6('+ NumlistToString(hidden_layer_presets[6]) + ')')\n",
    "nn6_performance_test.compute_measures()\n",
    "nn6_performance_test.performance_measures['set'] = 'test'\n",
    "print('TEST SET: ')\n",
    "print(nn6_performance_test.performance_measures)\n",
    "\n",
    "nn6_performance_test.img_indices()\n",
    "nn6_img_indices_to_view = nn6_performance_test.image_indices"
   ]
  },
  {
   "cell_type": "markdown",
   "metadata": {},
   "source": [
    "# look at examples of neural network classifications"
   ]
  },
  {
   "cell_type": "code",
   "execution_count": 19,
   "metadata": {},
   "outputs": [],
   "source": [
    "def performance_examples(typ, measures):\n",
    "    iiv = ''\n",
    "    if typ == 'FP':\n",
    "        iiv = typ + '_indices'\n",
    "    elif typ == 'TP':\n",
    "        iiv = typ + '_indices'\n",
    "    elif typ == 'FN':\n",
    "        iiv = typ + '_indices'\n",
    "    else:\n",
    "        raise ValueError('input must be \"TP\", \"FP\", or \"FN\"')\n",
    "    for img in measures[iiv]:\n",
    "        warnings.filterwarnings('ignore')    \n",
    "        plt.figure()\n",
    "        lookat = ci_path + imgs_test[img] + '.png' # location of original image\n",
    "        io.imshow(lookat) # show original image\n",
    "        plt.figure()\n",
    "        io.imshow(data_test[img].reshape(dims[0], dims[1])) # show manipulation for feature representation\n",
    "        warnings.filterwarnings('always')"
   ]
  },
  {
   "cell_type": "markdown",
   "metadata": {},
   "source": [
    "## true positives"
   ]
  },
  {
   "cell_type": "code",
   "execution_count": 20,
   "metadata": {},
   "outputs": [],
   "source": [
    "# performance_examples('TP', nn0_img_indices_to_view)"
   ]
  },
  {
   "cell_type": "markdown",
   "metadata": {},
   "source": [
    "## false positives"
   ]
  },
  {
   "cell_type": "code",
   "execution_count": 21,
   "metadata": {},
   "outputs": [],
   "source": [
    "# performance_examples('FP', nn0_img_indices_to_view)"
   ]
  },
  {
   "cell_type": "markdown",
   "metadata": {},
   "source": [
    "## false negatives"
   ]
  },
  {
   "cell_type": "code",
   "execution_count": 22,
   "metadata": {},
   "outputs": [],
   "source": [
    "# performance_examples('FN', nn0_img_indices_to_view)"
   ]
  },
  {
   "cell_type": "markdown",
   "metadata": {},
   "source": [
    "# comparisons"
   ]
  },
  {
   "cell_type": "code",
   "execution_count": 23,
   "metadata": {},
   "outputs": [],
   "source": [
    "# list of fits to compare: \n",
    "final_fits = []\n",
    "final_fits.append(nn0_performance.performance_measures)\n",
    "final_fits.append(nn1_performance.performance_measures)\n",
    "final_fits.append(nn2_performance.performance_measures)\n",
    "final_fits.append(nn3_performance.performance_measures)\n",
    "final_fits.append(nn4_performance.performance_measures)\n",
    "final_fits.append(nn5_performance.performance_measures)\n",
    "final_fits.append(nn6_performance.performance_measures)\n",
    "\n",
    "final_fits.append(nn0_performance_test.performance_measures)\n",
    "final_fits.append(nn1_performance_test.performance_measures)\n",
    "final_fits.append(nn2_performance_test.performance_measures)\n",
    "final_fits.append(nn3_performance_test.performance_measures)\n",
    "final_fits.append(nn4_performance_test.performance_measures)\n",
    "final_fits.append(nn5_performance_test.performance_measures)\n",
    "final_fits.append(nn6_performance_test.performance_measures)"
   ]
  },
  {
   "cell_type": "code",
   "execution_count": 24,
   "metadata": {},
   "outputs": [
    {
     "data": {
      "image/png": "[encoded data removed]",
      "text/plain": [
       "<Figure size 800x800 with 1 Axes>"
      ]
     },
     "metadata": {},
     "output_type": "display_data"
    }
   ],
   "source": [
    "plt.figure(figsize=(8,8))\n",
    "\n",
    "for fit in final_fits:\n",
    "    if fit['set'] == 'train':\n",
    "        color = 'co'\n",
    "    else:\n",
    "        color = 'ro'\n",
    "    plt.plot(fit['FP'] / fit['Neg'], \n",
    "             fit['TP'] / fit['Pos'], color, markersize=12)\n",
    "    plt.text(fit['FP'] / fit['Neg'], \n",
    "             fit['TP'] / fit['Pos'], fit['desc'] + ': ' + fit['set'], fontsize=16)\n",
    "plt.axis([0, 1, 0.5, 1])\n",
    "plt.title('ROC plot')\n",
    "plt.xlabel('False positive rate')\n",
    "plt.ylabel('True positive rate')\n",
    "plt.show()\n"
   ]
  },
  {
   "cell_type": "code",
   "execution_count": null,
   "metadata": {},
   "outputs": [],
   "source": []
  }
 ],
 "metadata": {
  "kernelspec": {
   "display_name": "Python 3 (ipykernel)",
   "language": "python",
   "name": "python3"
  },
  "language_info": {
   "codemirror_mode": {
    "name": "ipython",
    "version": 3
   },
   "file_extension": ".py",
   "mimetype": "text/x-python",
   "name": "python",
   "nbconvert_exporter": "python",
   "pygments_lexer": "ipython3",
   "version": "3.9.13"
  }
 },
 "nbformat": 4,
 "nbformat_minor": 2
}

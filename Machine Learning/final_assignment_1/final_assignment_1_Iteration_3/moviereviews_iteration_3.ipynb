{
 "cells": [
  {
   "cell_type": "code",
   "execution_count": 1,
   "id": "c457dffa",
   "metadata": {},
   "outputs": [],
   "source": [
    "# all imports and magic commands\n",
    "import numpy as np\n",
    "import pandas as pd\n",
    "import matplotlib.pyplot as plt\n",
    "import sys\n",
    "sys.path.append('..')\n",
    "from my_measures import BinaryClassificationPerformance\n",
    "from sklearn.feature_extraction.text import HashingVectorizer\n",
    "from sklearn.feature_extraction.text import TfidfTransformer\n",
    "from scipy.sparse import csr_matrix, hstack\n",
    "from sklearn.preprocessing import StandardScaler\n",
    "from sklearn.preprocessing import KBinsDiscretizer\n",
    "from sklearn.model_selection import train_test_split\n",
    "from sklearn import linear_model\n",
    "%matplotlib inline"
   ]
  },
  {
   "cell_type": "code",
   "execution_count": 2,
   "id": "df2f8293",
   "metadata": {},
   "outputs": [
    {
     "name": "stdout",
     "output_type": "stream",
     "text": [
      "Help on class BinaryClassificationPerformance in module my_measures:\n",
      "\n",
      "class BinaryClassificationPerformance(builtins.object)\n",
      " |  BinaryClassificationPerformance(predictions, labels, desc, probabilities=None)\n",
      " |  \n",
      " |  Performance measures to evaluate the fit of a binary classification model, v1.02\n",
      " |  \n",
      " |  Methods defined here:\n",
      " |  \n",
      " |  __init__(self, predictions, labels, desc, probabilities=None)\n",
      " |      Initialize attributes: predictions-vector of predicted values for Y, labels-vector of labels for Y\n",
      " |  \n",
      " |  compute_measures(self)\n",
      " |      Compute performance measures defined by Flach p. 57\n",
      " |  \n",
      " |  img_indices(self)\n",
      " |      Get the indices of true and false positives to be able to locate the corresponding images in a list of image names\n",
      " |  \n",
      " |  ----------------------------------------------------------------------\n",
      " |  Data descriptors defined here:\n",
      " |  \n",
      " |  __dict__\n",
      " |      dictionary for instance variables (if defined)\n",
      " |  \n",
      " |  __weakref__\n",
      " |      list of weak references to the object (if defined)\n",
      "\n"
     ]
    }
   ],
   "source": [
    "help(BinaryClassificationPerformance)"
   ]
  },
  {
   "cell_type": "code",
   "execution_count": 3,
   "id": "c4e58ef9",
   "metadata": {},
   "outputs": [],
   "source": [
    "# function that takes raw data and completes all preprocessing required before model fits\n",
    "def process_raw_data(fn, my_random_seed, test=False):\n",
    "    # read and summarize data\n",
    "    movie_data = pd.read_csv(fn, sep='\\t')\n",
    "    print(\"movie_data is:\", type(movie_data))\n",
    "    print(\"movie_data has\", movie_data.shape[0], \"rows and\", movie_data.shape[1], \"columns\", \"\\n\")\n",
    "    print(\"the data types for each of the columns in movie_data:\")\n",
    "    print(movie_data.dtypes, \"\\n\")\n",
    "\n",
    "    if (not test):\n",
    "        print(\"The rate of 'good' movie reviews in the dataset: \")\n",
    "        print(movie_data['sentiment'].mean())\n",
    "\n",
    "    # vectorize Bag of Words from review text; as sparse matrix\n",
    "    if (not test): # fit_transform()\n",
    "        hv = HashingVectorizer(n_features=2 ** 18, alternate_sign=False, ngram_range=(1,2))\n",
    "        X_hv = hv.fit_transform(movie_data.review)\n",
    "        fitted_transformations.append(hv)\n",
    "        print(\"Shape of HashingVectorizer X:\")\n",
    "        print(X_hv.shape)\n",
    "    else: # transform() \n",
    "        X_hv = fitted_transformations[0].transform(movie_data.review)\n",
    "        print(\"Shape of HashingVectorizer X:\")\n",
    "        print(X_hv.shape)\n",
    "    \n",
    "    # http://scikit-learn.org/stable/modules/generated/sklearn.feature_extraction.text.TfidfTransformer.html\n",
    "    if (not test):\n",
    "        transformer = TfidfTransformer()\n",
    "        X_tfidf = transformer.fit_transform(X_hv)\n",
    "        fitted_transformations.append(transformer)\n",
    "    else:\n",
    "        X_tfidf = fitted_transformations[1].transform(X_hv)\n",
    "    \n",
    "    # create additional quantitative features\n",
    "    # features from Amazon.csv to add to feature set\n",
    "    movie_data['word_count'] = movie_data['review'].str.split(' ').str.len()\n",
    "    movie_data['punc_count'] = movie_data['review'].str.count(\"\\.\")\n",
    "    \n",
    "    X_quant_features = movie_data[[\"word_count\", \"punc_count\"]]\n",
    "    print(\"Look at a few rows of the new quantitative features: \")\n",
    "    print(X_quant_features.head(10))\n",
    "    \n",
    "    ### here are my customized features\n",
    "    # use KBinsDiscretizer to discretize quantitative features\n",
    "    if(not test):\n",
    "        est = KBinsDiscretizer(n_bins=[4, 3], encode='ordinal', strategy='uniform')\n",
    "        X_dis = est.fit_transform(X_quant_features)\n",
    "        fitted_transformations.append(est)\n",
    "    else:\n",
    "        X_dis = fitted_transformations[2].transform(X_quant_features)\n",
    "    \n",
    "    # Combine all quantitative features into a single sparse matrix\n",
    "    X_quant_features_csr = csr_matrix(X_quant_features)\n",
    "    X_combined = hstack([X_tfidf, X_dis])\n",
    "    X_matrix = csr_matrix(X_combined) # convert to sparse matrix\n",
    "    print(\"Size of combined bag of words and new quantitative variables matrix:\")\n",
    "    print(X_matrix.shape)\n",
    "    \n",
    "    # Create `X`, scaled matrix of features\n",
    "    # feature scaling\n",
    "    if (not test):\n",
    "        sc = StandardScaler(with_mean=False)\n",
    "        X = sc.fit_transform(X_matrix)\n",
    "        fitted_transformations.append(sc)\n",
    "        print(X.shape)\n",
    "        y = movie_data['sentiment']\n",
    "    else:\n",
    "        X = fitted_transformations[3].transform(X_matrix)\n",
    "        print(X.shape)\n",
    "    \n",
    "    # Create Training and Test Sets\n",
    "    # enter an integer for the random_state parameter; any integer will work\n",
    "    if (test):\n",
    "        X_submission_test = X\n",
    "        print(\"Shape of X_test for submission:\")\n",
    "        print(X_submission_test.shape)\n",
    "        print('SUCCESS!')\n",
    "        return(movie_data, X_submission_test)\n",
    "    else: \n",
    "        X_train, X_test, y_train, y_test, X_raw_train, X_raw_test = train_test_split(X, y, movie_data, test_size=0.2, random_state=my_random_seed)\n",
    "        print(\"Shape of X_train and X_test:\")\n",
    "        print(X_train.shape)\n",
    "        print(X_test.shape)\n",
    "        print(\"Shape of y_train and y_test:\")\n",
    "        print(y_train.shape)\n",
    "        print(y_test.shape)\n",
    "        print(\"Shape of X_raw_train and X_raw_test:\")\n",
    "        print(X_raw_train.shape)\n",
    "        print(X_raw_test.shape)\n",
    "        print('SUCCESS!')\n",
    "        return(X_train, X_test, y_train, y_test, X_raw_train, X_raw_test)"
   ]
  },
  {
   "cell_type": "code",
   "execution_count": 4,
   "id": "ee0ad8ba",
   "metadata": {},
   "outputs": [
    {
     "name": "stdout",
     "output_type": "stream",
     "text": [
      "movie_data is: <class 'pandas.core.frame.DataFrame'>\n",
      "movie_data has 25000 rows and 3 columns \n",
      "\n",
      "the data types for each of the columns in movie_data:\n",
      "id           object\n",
      "sentiment     int64\n",
      "review       object\n",
      "dtype: object \n",
      "\n",
      "The rate of 'good' movie reviews in the dataset: \n",
      "0.5\n",
      "Shape of HashingVectorizer X:\n",
      "(25000, 262144)\n",
      "Look at a few rows of the new quantitative features: \n",
      "   word_count  punc_count\n",
      "0         433          20\n",
      "1         158          16\n",
      "2         378          20\n",
      "3         379           8\n",
      "4         367           9\n",
      "5          89           5\n",
      "6         112           9\n",
      "7         132           9\n",
      "8         163           7\n",
      "9          43           5\n",
      "Size of combined bag of words and new quantitative variables matrix:\n",
      "(25000, 262146)\n",
      "(25000, 262146)\n",
      "Shape of X_train and X_test:\n",
      "(20000, 262146)\n",
      "(5000, 262146)\n",
      "Shape of y_train and y_test:\n",
      "(20000,)\n",
      "(5000,)\n",
      "Shape of X_raw_train and X_raw_test:\n",
      "(20000, 5)\n",
      "(5000, 5)\n",
      "SUCCESS!\n",
      "Number of fits stored in `fitted_transformations` list: \n",
      "4\n"
     ]
    }
   ],
   "source": [
    "# create an empty list to store any use of fit_transform() to transform() later\n",
    "# it is a global list to store model and feature extraction fits\n",
    "fitted_transformations = []\n",
    "\n",
    "# CHANGE FILE PATH and my_random_seed number (any integer other than 74 will do): \n",
    "X_train, X_test, y_train, y_test, X_raw_train, X_raw_test = process_raw_data(fn='../moviereviews_train.tsv', my_random_seed=713)\n",
    "\n",
    "print(\"Number of fits stored in `fitted_transformations` list: \")\n",
    "print(len(fitted_transformations))"
   ]
  },
  {
   "cell_type": "markdown",
   "id": "d7e128f3",
   "metadata": {},
   "source": [
    "### Create stochastic gradient descent(SGD) models with different params "
   ]
  },
  {
   "cell_type": "markdown",
   "id": "84bca78f",
   "metadata": {},
   "source": [
    "### MODEL: SGD"
   ]
  },
  {
   "cell_type": "code",
   "execution_count": 5,
   "id": "cdbcd67b",
   "metadata": {},
   "outputs": [],
   "source": [
    "params = [1, 5, 10, 20, 40, 0.01]"
   ]
  },
  {
   "cell_type": "code",
   "execution_count": 6,
   "id": "4237c45f",
   "metadata": {},
   "outputs": [
    {
     "name": "stdout",
     "output_type": "stream",
     "text": [
      "{'Pos': 9996, 'Neg': 10004, 'TP': 9996, 'TN': 10004, 'FP': 0, 'FN': 0, 'Accuracy': 1.0, 'Precision': 1.0, 'Recall': 1.0, 'desc': 'train_0(1)'}\n"
     ]
    }
   ],
   "source": [
    "# The 1st model uses default C value for comparison\n",
    "\n",
    "svc_0 = linear_model.SGDClassifier()\n",
    "svc_0.fit(X_train, y_train)\n",
    "\n",
    "svc_0_performance_train = BinaryClassificationPerformance(svc_0.predict(X_train), y_train, 'train_0('+ str(params[0]) + ')')\n",
    "svc_0_performance_train.compute_measures()\n",
    "print(svc_0_performance_train.performance_measures)"
   ]
  },
  {
   "cell_type": "code",
   "execution_count": 7,
   "id": "01543a73",
   "metadata": {},
   "outputs": [
    {
     "name": "stdout",
     "output_type": "stream",
     "text": [
      "{'Pos': 9996, 'Neg': 10004, 'TP': 9996, 'TN': 10004, 'FP': 0, 'FN': 0, 'Accuracy': 1.0, 'Precision': 1.0, 'Recall': 1.0, 'desc': 'train_1(5)'}\n"
     ]
    }
   ],
   "source": [
    "svc_1 = linear_model.SGDClassifier(alpha=params[1])\n",
    "svc_1.fit(X_train, y_train)\n",
    "\n",
    "svc_1_performance_train = BinaryClassificationPerformance(svc_1.predict(X_train), y_train, 'train_1('+ str(params[1]) + ')')\n",
    "svc_1_performance_train.compute_measures()\n",
    "print(svc_1_performance_train.performance_measures)"
   ]
  },
  {
   "cell_type": "code",
   "execution_count": 8,
   "id": "4e7d4290",
   "metadata": {},
   "outputs": [
    {
     "name": "stdout",
     "output_type": "stream",
     "text": [
      "{'Pos': 9996, 'Neg': 10004, 'TP': 9995, 'TN': 10003, 'FP': 1, 'FN': 1, 'Accuracy': 0.9999, 'Precision': 0.9998999599839936, 'Recall': 0.9998999599839936, 'desc': 'train_2(10)'}\n"
     ]
    }
   ],
   "source": [
    "svc_2 = linear_model.SGDClassifier(alpha=params[2])\n",
    "svc_2.fit(X_train, y_train)\n",
    "\n",
    "svc_2_performance_train = BinaryClassificationPerformance(svc_2.predict(X_train), y_train, 'train_2('+ str(params[2]) + ')')\n",
    "svc_2_performance_train.compute_measures()\n",
    "print(svc_2_performance_train.performance_measures)"
   ]
  },
  {
   "cell_type": "code",
   "execution_count": 9,
   "id": "3d8a9c55",
   "metadata": {},
   "outputs": [
    {
     "name": "stdout",
     "output_type": "stream",
     "text": [
      "{'Pos': 9996, 'Neg': 10004, 'TP': 9966, 'TN': 9995, 'FP': 9, 'FN': 30, 'Accuracy': 0.99805, 'Precision': 0.9990977443609023, 'Recall': 0.996998799519808, 'desc': 'train_3(20)'}\n"
     ]
    }
   ],
   "source": [
    "svc_3 = linear_model.SGDClassifier(alpha=params[3])\n",
    "svc_3.fit(X_train, y_train)\n",
    "\n",
    "svc_3_performance_train = BinaryClassificationPerformance(svc_3.predict(X_train), y_train, 'train_3('+ str(params[3]) + ')')\n",
    "svc_3_performance_train.compute_measures()\n",
    "print(svc_3_performance_train.performance_measures)"
   ]
  },
  {
   "cell_type": "code",
   "execution_count": 10,
   "id": "23193b92",
   "metadata": {},
   "outputs": [
    {
     "name": "stdout",
     "output_type": "stream",
     "text": [
      "{'Pos': 9996, 'Neg': 10004, 'TP': 9847, 'TN': 9949, 'FP': 55, 'FN': 149, 'Accuracy': 0.9898, 'Precision': 0.9944455665522117, 'Recall': 0.985094037615046, 'desc': 'train_4(40)'}\n"
     ]
    }
   ],
   "source": [
    "svc_4 = linear_model.SGDClassifier(alpha=params[4])\n",
    "svc_4.fit(X_train, y_train)\n",
    "\n",
    "svc_4_performance_train = BinaryClassificationPerformance(svc_4.predict(X_train), y_train, 'train_4('+ str(params[4]) + ')')\n",
    "svc_4_performance_train.compute_measures()\n",
    "print(svc_4_performance_train.performance_measures)"
   ]
  },
  {
   "cell_type": "code",
   "execution_count": 11,
   "id": "f38f7f1b",
   "metadata": {},
   "outputs": [
    {
     "name": "stdout",
     "output_type": "stream",
     "text": [
      "{'Pos': 9996, 'Neg': 10004, 'TP': 9996, 'TN': 10003, 'FP': 1, 'FN': 0, 'Accuracy': 0.99995, 'Precision': 0.9998999699909973, 'Recall': 1.0, 'desc': 'train_5(0.01)'}\n"
     ]
    }
   ],
   "source": [
    "svc_5 = linear_model.SGDClassifier(alpha=params[5])\n",
    "svc_5.fit(X_train, y_train)\n",
    "\n",
    "svc_5_performance_train = BinaryClassificationPerformance(svc_5.predict(X_train), y_train, 'train_5('+ str(params[5]) + ')')\n",
    "svc_5_performance_train.compute_measures()\n",
    "print(svc_5_performance_train.performance_measures)"
   ]
  },
  {
   "cell_type": "markdown",
   "id": "adcfbb8c",
   "metadata": {},
   "source": [
    "### ROC plot to compare performance of various alpha parameter of SGD"
   ]
  },
  {
   "cell_type": "code",
   "execution_count": 22,
   "id": "c850bf68",
   "metadata": {},
   "outputs": [
    {
     "data": {
      "image/png": "[encoded data removed]",
      "text/plain": [
       "<Figure size 600x600 with 1 Axes>"
      ]
     },
     "metadata": {},
     "output_type": "display_data"
    }
   ],
   "source": [
    "fits = [svc_0_performance_train, svc_1_performance_train, svc_2_performance_train, svc_3_performance_train, svc_4_performance_train, svc_5_performance_train]\n",
    "plot_colors_train = [\"black\", \"#FFBA08\", \"#FAA307\", \"#F48C06\", \"#E85D04\", \"#DC2F02\", \"#D00000\", \"#9D0208\"]\n",
    "\n",
    "plt.figure(figsize=(6,6))\n",
    "for i, fit in enumerate(fits):\n",
    "    plt.plot(fit.performance_measures['FP'] / fit.performance_measures['Neg'], \n",
    "             fit.performance_measures['TP'] / fit.performance_measures['Pos'], 'o', color=plot_colors_train[i])\n",
    "    plt.text(fit.performance_measures['FP'] / fit.performance_measures['Neg'], \n",
    "             fit.performance_measures['TP'] / fit.performance_measures['Pos'], fit.desc)\n",
    "plt.axis([0, 1, 0, 1])\n",
    "plt.title('(Alteration)ROC plot: Trian set')\n",
    "plt.xlabel('False positive rate')\n",
    "plt.ylabel('True positive rate')\n",
    "plt.show()"
   ]
  },
  {
   "cell_type": "markdown",
   "id": "3f86f097",
   "metadata": {},
   "source": [
    "# Look at performance on the test set"
   ]
  },
  {
   "cell_type": "markdown",
   "id": "ed2d6d1a",
   "metadata": {},
   "source": [
    "### MODEL: SGD"
   ]
  },
  {
   "cell_type": "code",
   "execution_count": 13,
   "id": "6316ef16",
   "metadata": {},
   "outputs": [
    {
     "name": "stdout",
     "output_type": "stream",
     "text": [
      "{'Pos': 2504, 'Neg': 2496, 'TP': 2040, 'TN': 2100, 'FP': 396, 'FN': 464, 'Accuracy': 0.828, 'Precision': 0.8374384236453202, 'Recall': 0.8146964856230032, 'desc': 'test_0(1)'}\n"
     ]
    }
   ],
   "source": [
    "svc_0_performance_test = BinaryClassificationPerformance(svc_0.predict(X_test), y_test, 'test_0('+ str(params[0]) + ')')\n",
    "svc_0_performance_test.compute_measures()\n",
    "print(svc_0_performance_test.performance_measures)"
   ]
  },
  {
   "cell_type": "code",
   "execution_count": 14,
   "id": "17345e9e",
   "metadata": {},
   "outputs": [
    {
     "name": "stdout",
     "output_type": "stream",
     "text": [
      "{'Pos': 2504, 'Neg': 2496, 'TP': 2241, 'TN': 2187, 'FP': 309, 'FN': 263, 'Accuracy': 0.8856, 'Precision': 0.8788235294117647, 'Recall': 0.8949680511182109, 'desc': 'test_1(5)'}\n"
     ]
    }
   ],
   "source": [
    "svc_1_performance_test = BinaryClassificationPerformance(svc_1.predict(X_test), y_test, 'test_1('+ str(params[1]) + ')')\n",
    "svc_1_performance_test.compute_measures()\n",
    "print(svc_1_performance_test.performance_measures)"
   ]
  },
  {
   "cell_type": "code",
   "execution_count": 15,
   "id": "db15ee46",
   "metadata": {},
   "outputs": [
    {
     "name": "stdout",
     "output_type": "stream",
     "text": [
      "{'Pos': 2504, 'Neg': 2496, 'TP': 2245, 'TN': 2193, 'FP': 303, 'FN': 259, 'Accuracy': 0.8876, 'Precision': 0.881083202511774, 'Recall': 0.8965654952076677, 'desc': 'test_2(10)'}\n"
     ]
    }
   ],
   "source": [
    "svc_2_performance_test = BinaryClassificationPerformance(svc_2.predict(X_test), y_test, 'test_2('+ str(params[2]) + ')')\n",
    "svc_2_performance_test.compute_measures()\n",
    "print(svc_2_performance_test.performance_measures)"
   ]
  },
  {
   "cell_type": "code",
   "execution_count": 16,
   "id": "8a3527dd",
   "metadata": {},
   "outputs": [
    {
     "name": "stdout",
     "output_type": "stream",
     "text": [
      "{'Pos': 2504, 'Neg': 2496, 'TP': 2233, 'TN': 2188, 'FP': 308, 'FN': 271, 'Accuracy': 0.8842, 'Precision': 0.8787878787878788, 'Recall': 0.8917731629392971, 'desc': 'test_3(20)'}\n"
     ]
    }
   ],
   "source": [
    "svc_3_performance_test = BinaryClassificationPerformance(svc_3.predict(X_test), y_test, 'test_3('+ str(params[3]) + ')')\n",
    "svc_3_performance_test.compute_measures()\n",
    "print(svc_3_performance_test.performance_measures)"
   ]
  },
  {
   "cell_type": "code",
   "execution_count": 17,
   "id": "41b1a8db",
   "metadata": {},
   "outputs": [
    {
     "name": "stdout",
     "output_type": "stream",
     "text": [
      "{'Pos': 2504, 'Neg': 2496, 'TP': 2163, 'TN': 2176, 'FP': 320, 'FN': 341, 'Accuracy': 0.8678, 'Precision': 0.8711236407571487, 'Recall': 0.8638178913738019, 'desc': 'test_4(40)'}\n"
     ]
    }
   ],
   "source": [
    "svc_4_performance_test = BinaryClassificationPerformance(svc_4.predict(X_test), y_test, 'test_4('+ str(params[4]) + ')')\n",
    "svc_4_performance_test.compute_measures()\n",
    "print(svc_4_performance_test.performance_measures)"
   ]
  },
  {
   "cell_type": "code",
   "execution_count": 18,
   "id": "764441e5",
   "metadata": {},
   "outputs": [
    {
     "name": "stdout",
     "output_type": "stream",
     "text": [
      "{'Pos': 2504, 'Neg': 2496, 'TP': 2064, 'TN': 2044, 'FP': 452, 'FN': 440, 'Accuracy': 0.8216, 'Precision': 0.8203497615262321, 'Recall': 0.8242811501597445, 'desc': 'test_5(0.01)'}\n"
     ]
    }
   ],
   "source": [
    "svc_5_performance_test = BinaryClassificationPerformance(svc_5.predict(X_test), y_test, 'test_5('+ str(params[5]) + ')')\n",
    "svc_5_performance_test.compute_measures()\n",
    "print(svc_5_performance_test.performance_measures)"
   ]
  },
  {
   "cell_type": "markdown",
   "id": "460586eb",
   "metadata": {},
   "source": [
    "### ROC plot to compare performance of various alpha parameter of SGD"
   ]
  },
  {
   "cell_type": "code",
   "execution_count": 23,
   "id": "39ac4fd7",
   "metadata": {},
   "outputs": [
    {
     "data": {
      "image/png": "[encoded data removed]",
      "text/plain": [
       "<Figure size 600x600 with 1 Axes>"
      ]
     },
     "metadata": {},
     "output_type": "display_data"
    }
   ],
   "source": [
    "fits = [svc_0_performance_test, svc_1_performance_test, svc_2_performance_test, svc_3_performance_test, svc_4_performance_test, svc_5_performance_test]\n",
    "plot_colors_test = [\"black\", \"#CAF0F8\", \"#ADE8F4\", \"#90E0EF\", \"#00B4D8\", \"#0096C7\", \"#0077B6\", \"#03045E\"]\n",
    "\n",
    "plt.figure(figsize=(6,6))\n",
    "for i, fit in enumerate(fits):\n",
    "    plt.plot(fit.performance_measures['FP'] / fit.performance_measures['Neg'], \n",
    "             fit.performance_measures['TP'] / fit.performance_measures['Pos'], 'o', color=plot_colors_test[i])\n",
    "    plt.text(fit.performance_measures['FP'] / fit.performance_measures['Neg'], \n",
    "             fit.performance_measures['TP'] / fit.performance_measures['Pos'], fit.desc)\n",
    "plt.axis([0, 1, 0, 1])\n",
    "plt.title('(Alteration)ROC plot: Test set')\n",
    "plt.xlabel('False positive rate')\n",
    "plt.ylabel('True positive rate')\n",
    "plt.show()"
   ]
  },
  {
   "cell_type": "code",
   "execution_count": null,
   "id": "fa4cf94f",
   "metadata": {},
   "outputs": [],
   "source": []
  }
 ],
 "metadata": {
  "kernelspec": {
   "display_name": "Python 3 (ipykernel)",
   "language": "python",
   "name": "python3"
  },
  "language_info": {
   "codemirror_mode": {
    "name": "ipython",
    "version": 3
   },
   "file_extension": ".py",
   "mimetype": "text/x-python",
   "name": "python",
   "nbconvert_exporter": "python",
   "pygments_lexer": "ipython3",
   "version": "3.9.13"
  }
 },
 "nbformat": 4,
 "nbformat_minor": 5
}

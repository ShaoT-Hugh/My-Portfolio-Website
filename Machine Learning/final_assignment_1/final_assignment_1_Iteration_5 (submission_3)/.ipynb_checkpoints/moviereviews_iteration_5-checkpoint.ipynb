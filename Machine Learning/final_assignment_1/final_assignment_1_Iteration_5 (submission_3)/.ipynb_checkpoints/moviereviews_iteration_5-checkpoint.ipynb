{
 "cells": [
  {
   "cell_type": "code",
   "execution_count": 1,
   "id": "c457dffa",
   "metadata": {},
   "outputs": [],
   "source": [
    "# all imports and magic commands\n",
    "import numpy as np\n",
    "import pandas as pd\n",
    "import matplotlib.pyplot as plt\n",
    "import sys\n",
    "sys.path.append('..')\n",
    "from my_measures import BinaryClassificationPerformance\n",
    "from sklearn.feature_extraction.text import CountVectorizer\n",
    "from sklearn.feature_extraction.text import TfidfTransformer\n",
    "from scipy.sparse import csr_matrix, hstack\n",
    "from sklearn.preprocessing import StandardScaler\n",
    "from sklearn.preprocessing import KBinsDiscretizer\n",
    "from sklearn.model_selection import train_test_split\n",
    "from sklearn.model_selection import cross_val_score\n",
    "%matplotlib inline"
   ]
  },
  {
   "cell_type": "code",
   "execution_count": 2,
   "id": "df2f8293",
   "metadata": {},
   "outputs": [
    {
     "name": "stdout",
     "output_type": "stream",
     "text": [
      "Help on class BinaryClassificationPerformance in module my_measures:\n",
      "\n",
      "class BinaryClassificationPerformance(builtins.object)\n",
      " |  BinaryClassificationPerformance(predictions, labels, desc, probabilities=None)\n",
      " |  \n",
      " |  Performance measures to evaluate the fit of a binary classification model, v1.02\n",
      " |  \n",
      " |  Methods defined here:\n",
      " |  \n",
      " |  __init__(self, predictions, labels, desc, probabilities=None)\n",
      " |      Initialize attributes: predictions-vector of predicted values for Y, labels-vector of labels for Y\n",
      " |  \n",
      " |  compute_measures(self)\n",
      " |      Compute performance measures defined by Flach p. 57\n",
      " |  \n",
      " |  img_indices(self)\n",
      " |      Get the indices of true and false positives to be able to locate the corresponding images in a list of image names\n",
      " |  \n",
      " |  ----------------------------------------------------------------------\n",
      " |  Data descriptors defined here:\n",
      " |  \n",
      " |  __dict__\n",
      " |      dictionary for instance variables (if defined)\n",
      " |  \n",
      " |  __weakref__\n",
      " |      list of weak references to the object (if defined)\n",
      "\n"
     ]
    }
   ],
   "source": [
    "help(BinaryClassificationPerformance)"
   ]
  },
  {
   "cell_type": "code",
   "execution_count": 3,
   "id": "c4e58ef9",
   "metadata": {},
   "outputs": [],
   "source": [
    "# function that takes raw data and completes all preprocessing required before model fits\n",
    "def process_raw_data(fn, my_random_seed, test=False):\n",
    "    # read and summarize data\n",
    "    movie_data = pd.read_csv(fn, sep='\\t')\n",
    "    print(\"movie_data is:\", type(movie_data))\n",
    "    print(\"movie_data has\", movie_data.shape[0], \"rows and\", movie_data.shape[1], \"columns\", \"\\n\")\n",
    "    print(\"the data types for each of the columns in movie_data:\")\n",
    "    print(movie_data.dtypes, \"\\n\")\n",
    "\n",
    "    if (not test):\n",
    "        print(\"The rate of 'good' movie reviews in the dataset: \")\n",
    "        print(movie_data['sentiment'].mean())\n",
    "\n",
    "    # vectorize Bag of Words from review text; as sparse matrix\n",
    "    if (not test): # fit_transform()\n",
    "        cv = CountVectorizer(ngram_range=(1,2), min_df=2, max_features=10000)\n",
    "        X_cv = cv.fit_transform(movie_data.review)\n",
    "        fitted_transformations.append(cv)\n",
    "        print(\"Shape of CountVectorizer X:\")\n",
    "        print(X_cv.shape)\n",
    "    else: # transform() \n",
    "        X_cv = fitted_transformations[0].transform(movie_data.review)\n",
    "        print(\"Shape of CountVectorizer X:\")\n",
    "        print(X_cv.shape)\n",
    "    \n",
    "    # http://scikit-learn.org/stable/modules/generated/sklearn.feature_extraction.text.TfidfTransformer.html\n",
    "    if (not test):\n",
    "        transformer = TfidfTransformer()\n",
    "        X_tfidf = transformer.fit_transform(X_cv)\n",
    "        fitted_transformations.append(transformer)\n",
    "    else:\n",
    "        X_tfidf = fitted_transformations[1].transform(X_cv)\n",
    "    \n",
    "    # create additional quantitative features\n",
    "    # features from Amazon.csv to add to feature set\n",
    "    movie_data['word_count'] = movie_data['review'].str.split(' ').str.len()\n",
    "    movie_data['punc_count'] = movie_data['review'].str.count(\"\\.\")\n",
    "    \n",
    "    X_quant_features = movie_data[[\"word_count\", \"punc_count\"]]\n",
    "    print(\"Look at a few rows of the new quantitative features: \")\n",
    "    print(X_quant_features.head(10))\n",
    "    \n",
    "    ### here are my customized features\n",
    "    # use KBinsDiscretizer to discretize quantitative features\n",
    "    if(not test):\n",
    "        est = KBinsDiscretizer(n_bins=[4, 3], encode='onehot', strategy='kmeans')\n",
    "        X_dis = est.fit_transform(X_quant_features)\n",
    "        fitted_transformations.append(est)\n",
    "    else:\n",
    "        X_dis = fitted_transformations[2].transform(X_quant_features)\n",
    "    \n",
    "    # Combine all quantitative features into a single sparse matrix\n",
    "    X_quant_features_csr = csr_matrix(X_quant_features)\n",
    "    X_combined = hstack([X_tfidf, X_dis])\n",
    "    X_matrix = csr_matrix(X_combined) # convert to sparse matrix\n",
    "    print(\"Size of combined bag of words and new quantitative variables matrix:\")\n",
    "    print(X_matrix.shape)\n",
    "    \n",
    "    # Create `X`, scaled matrix of features\n",
    "    # feature scaling\n",
    "    if (not test):\n",
    "        sc = StandardScaler(with_mean=False)\n",
    "        X = sc.fit_transform(X_matrix)\n",
    "        fitted_transformations.append(sc)\n",
    "        print(X.shape)\n",
    "        y = movie_data['sentiment']\n",
    "    else:\n",
    "        X = fitted_transformations[3].transform(X_matrix)\n",
    "        print(X.shape)\n",
    "    \n",
    "    # Create Training and Test Sets\n",
    "    # enter an integer for the random_state parameter; any integer will work\n",
    "    if (test):\n",
    "        X_submission_test = X\n",
    "        print(\"Shape of X_test for submission:\")\n",
    "        print(X_submission_test.shape)\n",
    "        print('SUCCESS!')\n",
    "        return(movie_data, X_submission_test)\n",
    "    else: \n",
    "        X_train, X_test, y_train, y_test, X_raw_train, X_raw_test = train_test_split(X, y, movie_data, test_size=0.2, random_state=my_random_seed)\n",
    "        print(\"Shape of X_train and X_test:\")\n",
    "        print(X_train.shape)\n",
    "        print(X_test.shape)\n",
    "        print(\"Shape of y_train and y_test:\")\n",
    "        print(y_train.shape)\n",
    "        print(y_test.shape)\n",
    "        print(\"Shape of X_raw_train and X_raw_test:\")\n",
    "        print(X_raw_train.shape)\n",
    "        print(X_raw_test.shape)\n",
    "        print('SUCCESS!')\n",
    "        return(X, y, X_train, X_test, y_train, y_test, X_raw_train, X_raw_test)"
   ]
  },
  {
   "cell_type": "code",
   "execution_count": 4,
   "id": "ee0ad8ba",
   "metadata": {},
   "outputs": [
    {
     "name": "stdout",
     "output_type": "stream",
     "text": [
      "movie_data is: <class 'pandas.core.frame.DataFrame'>\n",
      "movie_data has 25000 rows and 3 columns \n",
      "\n",
      "the data types for each of the columns in movie_data:\n",
      "id           object\n",
      "sentiment     int64\n",
      "review       object\n",
      "dtype: object \n",
      "\n",
      "The rate of 'good' movie reviews in the dataset: \n",
      "0.5\n",
      "Shape of CountVectorizer X:\n",
      "(25000, 10000)\n",
      "Look at a few rows of the new quantitative features: \n",
      "   word_count  punc_count\n",
      "0         433          20\n",
      "1         158          16\n",
      "2         378          20\n",
      "3         379           8\n",
      "4         367           9\n",
      "5          89           5\n",
      "6         112           9\n",
      "7         132           9\n",
      "8         163           7\n",
      "9          43           5\n",
      "Size of combined bag of words and new quantitative variables matrix:\n",
      "(25000, 10007)\n",
      "(25000, 10007)\n",
      "Shape of X_train and X_test:\n",
      "(20000, 10007)\n",
      "(5000, 10007)\n",
      "Shape of y_train and y_test:\n",
      "(20000,)\n",
      "(5000,)\n",
      "Shape of X_raw_train and X_raw_test:\n",
      "(20000, 5)\n",
      "(5000, 5)\n",
      "SUCCESS!\n",
      "Number of fits stored in `fitted_transformations` list: \n",
      "4\n"
     ]
    }
   ],
   "source": [
    "# create an empty list to store any use of fit_transform() to transform() later\n",
    "# it is a global list to store model and feature extraction fits\n",
    "fitted_transformations = []\n",
    "\n",
    "# CHANGE FILE PATH and my_random_seed number (any integer other than 74 will do): \n",
    "X_all, y_all, X_train, X_test, y_train, y_test, X_raw_train, X_raw_test = process_raw_data(fn='../moviereviews_train.tsv', my_random_seed=713)\n",
    "\n",
    "print(\"Number of fits stored in `fitted_transformations` list: \")\n",
    "print(len(fitted_transformations))"
   ]
  },
  {
   "cell_type": "markdown",
   "id": "d7e128f3",
   "metadata": {},
   "source": [
    "# Fit (and tune) Various Models"
   ]
  },
  {
   "cell_type": "markdown",
   "id": "84bca78f",
   "metadata": {},
   "source": [
    "### MODEL: SVM, linear"
   ]
  },
  {
   "cell_type": "code",
   "execution_count": 5,
   "id": "4237c45f",
   "metadata": {},
   "outputs": [
    {
     "name": "stdout",
     "output_type": "stream",
     "text": [
      "{'Pos': 9996, 'Neg': 10004, 'TP': 9995, 'TN': 10002, 'FP': 2, 'FN': 1, 'Accuracy': 0.99985, 'Precision': 0.9997999399819946, 'Recall': 0.9998999599839936, 'desc': 'svm_train'}\n"
     ]
    }
   ],
   "source": [
    "from sklearn import linear_model\n",
    "svm = linear_model.SGDClassifier()\n",
    "svm.fit(X_train, y_train)\n",
    "\n",
    "svm_performance_train = BinaryClassificationPerformance(svm.predict(X_train), y_train, 'svm_train')\n",
    "svm_performance_train.compute_measures()\n",
    "print(svm_performance_train.performance_measures)"
   ]
  },
  {
   "cell_type": "markdown",
   "id": "6d495312",
   "metadata": {},
   "source": [
    "### MODEL: Ridge Regression Classifier"
   ]
  },
  {
   "cell_type": "code",
   "execution_count": 6,
   "id": "42ef0362",
   "metadata": {},
   "outputs": [],
   "source": [
    "from sklearn import linear_model\n",
    "from sklearn.naive_bayes import MultinomialNB\n",
    "from sklearn.ensemble import RandomForestClassifier\n",
    "\n",
    "rdg_alphas = [1, 5, 40, 320, 2560, 10240]"
   ]
  },
  {
   "cell_type": "code",
   "execution_count": 7,
   "id": "0a581856",
   "metadata": {},
   "outputs": [
    {
     "name": "stdout",
     "output_type": "stream",
     "text": [
      "0.814760 accuracy with a standard deviation of 0.005875\n",
      "0.814640 accuracy with a standard deviation of 0.005630\n",
      "0.815960 accuracy with a standard deviation of 0.005044\n",
      "0.824760 accuracy with a standard deviation of 0.004844\n",
      "0.854880 accuracy with a standard deviation of 0.003865\n",
      "0.882120 accuracy with a standard deviation of 0.004549\n"
     ]
    }
   ],
   "source": [
    "# Cross Validation\n",
    "rdg_0 = linear_model.RidgeClassifier(alpha=rdg_alphas[0])\n",
    "rdg_0_scores = cross_val_score(rdg_0, X_all, y_all, cv=5)\n",
    "print(\"%0.6f accuracy with a standard deviation of %0.6f\" % (rdg_0_scores.mean(), rdg_0_scores.std()))\n",
    "\n",
    "rdg_1 = linear_model.RidgeClassifier(alpha=rdg_alphas[1])\n",
    "rdg_1_scores = cross_val_score(rdg_1, X_all, y_all, cv=5)\n",
    "print(\"%0.6f accuracy with a standard deviation of %0.6f\" % (rdg_1_scores.mean(), rdg_1_scores.std()))\n",
    "\n",
    "rdg_2 = linear_model.RidgeClassifier(alpha=rdg_alphas[2])\n",
    "rdg_2_scores = cross_val_score(rdg_2, X_all, y_all, cv=5)\n",
    "print(\"%0.6f accuracy with a standard deviation of %0.6f\" % (rdg_2_scores.mean(), rdg_2_scores.std()))\n",
    "\n",
    "rdg_3 = linear_model.RidgeClassifier(alpha=rdg_alphas[3])\n",
    "rdg_3_scores = cross_val_score(rdg_3, X_all, y_all, cv=5)\n",
    "print(\"%0.6f accuracy with a standard deviation of %0.6f\" % (rdg_3_scores.mean(), rdg_3_scores.std()))\n",
    "\n",
    "rdg_4 = linear_model.RidgeClassifier(alpha=rdg_alphas[4])\n",
    "rdg_4_scores = cross_val_score(rdg_4, X_all, y_all, cv=5)\n",
    "print(\"%0.6f accuracy with a standard deviation of %0.6f\" % (rdg_4_scores.mean(), rdg_4_scores.std()))\n",
    "\n",
    "rdg_5 = linear_model.RidgeClassifier(alpha=rdg_alphas[5])\n",
    "rdg_5_scores = cross_val_score(rdg_5, X_all, y_all, cv=5)\n",
    "print(\"%0.6f accuracy with a standard deviation of %0.6f\" % (rdg_5_scores.mean(), rdg_5_scores.std()))"
   ]
  },
  {
   "cell_type": "code",
   "execution_count": 8,
   "id": "6c1a3192",
   "metadata": {},
   "outputs": [
    {
     "name": "stdout",
     "output_type": "stream",
     "text": [
      "Ridge Regression 0 (alpha=1):\n",
      "{'Pos': 9996, 'Neg': 10004, 'TP': 9863, 'TN': 9863, 'FP': 141, 'FN': 133, 'Accuracy': 0.9863, 'Precision': 0.985905637744902, 'Recall': 0.9866946778711485, 'desc': 'rdg_train_0(1)'}\n",
      "Ridge Regression 1 (alpha=5):\n",
      "{'Pos': 9996, 'Neg': 10004, 'TP': 9865, 'TN': 9865, 'FP': 139, 'FN': 131, 'Accuracy': 0.9865, 'Precision': 0.9861055577768892, 'Recall': 0.9868947579031613, 'desc': 'rdg_train_1(5)'}\n",
      "Ridge Regression 2 (alpha=40):\n",
      "{'Pos': 9996, 'Neg': 10004, 'TP': 9866, 'TN': 9865, 'FP': 139, 'FN': 130, 'Accuracy': 0.98655, 'Precision': 0.9861069465267366, 'Recall': 0.9869947979191677, 'desc': 'rdg_train_2(40)'}\n",
      "Ridge Regression 3 (alpha=320):\n",
      "{'Pos': 9996, 'Neg': 10004, 'TP': 9861, 'TN': 9855, 'FP': 149, 'FN': 135, 'Accuracy': 0.9858, 'Precision': 0.9851148851148851, 'Recall': 0.9864945978391356, 'desc': 'rdg_train_3(320)'}\n",
      "Ridge Regression 4 (alpha=2560):\n",
      "{'Pos': 9996, 'Neg': 10004, 'TP': 9813, 'TN': 9809, 'FP': 195, 'FN': 183, 'Accuracy': 0.9811, 'Precision': 0.980515587529976, 'Recall': 0.9816926770708283, 'desc': 'rdg_train_4(2560)'}\n",
      "Ridge Regression 5 (alpha=10240):\n",
      "{'Pos': 9996, 'Neg': 10004, 'TP': 9725, 'TN': 9679, 'FP': 325, 'FN': 271, 'Accuracy': 0.9702, 'Precision': 0.9676616915422885, 'Recall': 0.9728891556622649, 'desc': 'rdg_train_5(10240)'}\n"
     ]
    }
   ],
   "source": [
    "\n",
    "rdg_0.fit(X_train, y_train)\n",
    "rdg_0_performance_train = BinaryClassificationPerformance(rdg_0.predict(X_train), y_train, 'rdg_train_0('+ str(rdg_alphas[0]) + ')')\n",
    "rdg_0_performance_train.compute_measures()\n",
    "print(\"Ridge Regression 0 (alpha=\"+ str(rdg_alphas[0]) +\"):\")\n",
    "print(rdg_0_performance_train.performance_measures)\n",
    "\n",
    "rdg_1.fit(X_train, y_train)\n",
    "rdg_1_performance_train = BinaryClassificationPerformance(rdg_1.predict(X_train), y_train, 'rdg_train_1('+ str(rdg_alphas[1]) + ')')\n",
    "rdg_1_performance_train.compute_measures()\n",
    "print(\"Ridge Regression 1 (alpha=\"+ str(rdg_alphas[1]) +\"):\")\n",
    "print(rdg_1_performance_train.performance_measures)\n",
    "\n",
    "rdg_2.fit(X_train, y_train)\n",
    "rdg_2_performance_train = BinaryClassificationPerformance(rdg_2.predict(X_train), y_train, 'rdg_train_2('+ str(rdg_alphas[2]) + ')')\n",
    "rdg_2_performance_train.compute_measures()\n",
    "print(\"Ridge Regression 2 (alpha=\"+ str(rdg_alphas[2]) +\"):\")\n",
    "print(rdg_2_performance_train.performance_measures)\n",
    "\n",
    "rdg_3.fit(X_train, y_train)\n",
    "rdg_3_performance_train = BinaryClassificationPerformance(rdg_3.predict(X_train), y_train, 'rdg_train_3('+ str(rdg_alphas[3]) + ')')\n",
    "rdg_3_performance_train.compute_measures()\n",
    "print(\"Ridge Regression 3 (alpha=\"+ str(rdg_alphas[3]) +\"):\")\n",
    "print(rdg_3_performance_train.performance_measures)\n",
    "\n",
    "rdg_4.fit(X_train, y_train)\n",
    "rdg_4_performance_train = BinaryClassificationPerformance(rdg_4.predict(X_train), y_train, 'rdg_train_4('+ str(rdg_alphas[4]) + ')')\n",
    "rdg_4_performance_train.compute_measures()\n",
    "print(\"Ridge Regression 4 (alpha=\"+ str(rdg_alphas[4]) +\"):\")\n",
    "print(rdg_4_performance_train.performance_measures)\n",
    "\n",
    "rdg_5.fit(X_train, y_train)\n",
    "rdg_5_performance_train = BinaryClassificationPerformance(rdg_5.predict(X_train), y_train, 'rdg_train_5('+ str(rdg_alphas[5]) + ')')\n",
    "rdg_5_performance_train.compute_measures()\n",
    "print(\"Ridge Regression 5 (alpha=\"+ str(rdg_alphas[5]) +\"):\")\n",
    "print(rdg_5_performance_train.performance_measures)"
   ]
  },
  {
   "cell_type": "code",
   "execution_count": 9,
   "id": "5d891f6a",
   "metadata": {},
   "outputs": [],
   "source": [
    "### Other Models"
   ]
  },
  {
   "cell_type": "code",
   "execution_count": 10,
   "id": "1ae8ce6c",
   "metadata": {},
   "outputs": [],
   "source": [
    "### logistic regression"
   ]
  },
  {
   "cell_type": "code",
   "execution_count": 11,
   "id": "6bb48481",
   "metadata": {},
   "outputs": [
    {
     "name": "stdout",
     "output_type": "stream",
     "text": [
      "{'Pos': 9996, 'Neg': 10004, 'TP': 9996, 'TN': 10004, 'FP': 0, 'FN': 0, 'Accuracy': 1.0, 'Precision': 1.0, 'Recall': 1.0, 'desc': 'lgs_train'}\n"
     ]
    }
   ],
   "source": [
    "lgs = linear_model.SGDClassifier(loss='log')\n",
    "lgs.fit(X_train, y_train)\n",
    "\n",
    "lgs_performance_train = BinaryClassificationPerformance(lgs.predict(X_train), y_train, 'lgs_train')\n",
    "lgs_performance_train.compute_measures()\n",
    "print(lgs_performance_train.performance_measures)"
   ]
  },
  {
   "cell_type": "code",
   "execution_count": 12,
   "id": "14c754b7",
   "metadata": {},
   "outputs": [],
   "source": [
    "### Perceptron"
   ]
  },
  {
   "cell_type": "code",
   "execution_count": 13,
   "id": "e69f3468",
   "metadata": {},
   "outputs": [
    {
     "name": "stdout",
     "output_type": "stream",
     "text": [
      "{'Pos': 9996, 'Neg': 10004, 'TP': 9996, 'TN': 10004, 'FP': 0, 'FN': 0, 'Accuracy': 1.0, 'Precision': 1.0, 'Recall': 1.0, 'desc': 'prc_train'}\n"
     ]
    }
   ],
   "source": [
    "prc = linear_model.SGDClassifier(loss='perceptron')\n",
    "prc.fit(X_train, y_train)\n",
    "\n",
    "prc_performance_train = BinaryClassificationPerformance(prc.predict(X_train), y_train, 'prc_train')\n",
    "prc_performance_train.compute_measures()\n",
    "print(prc_performance_train.performance_measures)"
   ]
  },
  {
   "cell_type": "code",
   "execution_count": 14,
   "id": "15b57e07",
   "metadata": {},
   "outputs": [],
   "source": [
    "### Naive Bayes"
   ]
  },
  {
   "cell_type": "code",
   "execution_count": 15,
   "id": "45036b84",
   "metadata": {},
   "outputs": [
    {
     "name": "stdout",
     "output_type": "stream",
     "text": [
      "{'Pos': 9996, 'Neg': 10004, 'TP': 8957, 'TN': 8828, 'FP': 1176, 'FN': 1039, 'Accuracy': 0.88925, 'Precision': 0.8839435507746966, 'Recall': 0.8960584233693477, 'desc': 'nbs_train'}\n"
     ]
    }
   ],
   "source": [
    "nbs = MultinomialNB()\n",
    "nbs.fit(X_train, y_train)\n",
    "\n",
    "nbs_performance_train = BinaryClassificationPerformance(nbs.predict(X_train), y_train, 'nbs_train')\n",
    "nbs_performance_train.compute_measures()\n",
    "print(nbs_performance_train.performance_measures)"
   ]
  },
  {
   "cell_type": "code",
   "execution_count": 16,
   "id": "36f773ea",
   "metadata": {},
   "outputs": [],
   "source": [
    "### Random Forest Classifier"
   ]
  },
  {
   "cell_type": "code",
   "execution_count": 17,
   "id": "b3281c63",
   "metadata": {},
   "outputs": [
    {
     "name": "stdout",
     "output_type": "stream",
     "text": [
      "{'Pos': 9996, 'Neg': 10004, 'TP': 8684, 'TN': 7282, 'FP': 2722, 'FN': 1312, 'Accuracy': 0.7983, 'Precision': 0.7613536735051727, 'Recall': 0.8687474989995998, 'desc': 'rdf_train'}\n"
     ]
    }
   ],
   "source": [
    "rdf = RandomForestClassifier(max_depth=2, random_state=0)\n",
    "rdf.fit(X_train, y_train)\n",
    "\n",
    "rdf_performance_train = BinaryClassificationPerformance(rdf.predict(X_train), y_train, 'rdf_train')\n",
    "rdf_performance_train.compute_measures()\n",
    "print(rdf_performance_train.performance_measures)"
   ]
  },
  {
   "cell_type": "markdown",
   "id": "adcfbb8c",
   "metadata": {},
   "source": [
    "### ROC plot to compare performance of various models and fits"
   ]
  },
  {
   "cell_type": "code",
   "execution_count": 18,
   "id": "c850bf68",
   "metadata": {},
   "outputs": [
    {
     "data": {
      "image/png": "[encoded data removed]",
      "text/plain": [
       "<Figure size 640x480 with 1 Axes>"
      ]
     },
     "metadata": {},
     "output_type": "display_data"
    }
   ],
   "source": [
    "fits = [svm_performance_train, lgs_performance_train, prc_performance_train, nbs_performance_train, rdf_performance_train, rdg_0_performance_train, rdg_1_performance_train, rdg_2_performance_train, rdg_3_performance_train, rdg_4_performance_train, rdg_5_performance_train]\n",
    "\n",
    "for fit in fits:\n",
    "    plt.plot(fit.performance_measures['FP'] / fit.performance_measures['Neg'], \n",
    "             fit.performance_measures['TP'] / fit.performance_measures['Pos'], 'bo')\n",
    "    plt.text(fit.performance_measures['FP'] / fit.performance_measures['Neg'], \n",
    "             fit.performance_measures['TP'] / fit.performance_measures['Pos'], fit.desc)\n",
    "plt.axis([0, 1, 0, 1])\n",
    "plt.title('(Alteration)ROC plot: Trian set')\n",
    "plt.xlabel('False positive rate')\n",
    "plt.ylabel('True positive rate')\n",
    "plt.show()"
   ]
  },
  {
   "cell_type": "markdown",
   "id": "3f86f097",
   "metadata": {},
   "source": [
    "# Look at performance on the test set"
   ]
  },
  {
   "cell_type": "markdown",
   "id": "ed2d6d1a",
   "metadata": {},
   "source": [
    "### MODEL: SVM, linear"
   ]
  },
  {
   "cell_type": "code",
   "execution_count": 19,
   "id": "6316ef16",
   "metadata": {},
   "outputs": [
    {
     "name": "stdout",
     "output_type": "stream",
     "text": [
      "{'Pos': 2504, 'Neg': 2496, 'TP': 2126, 'TN': 2134, 'FP': 362, 'FN': 378, 'Accuracy': 0.852, 'Precision': 0.8545016077170418, 'Recall': 0.8490415335463258, 'desc': 'svm_test'}\n"
     ]
    }
   ],
   "source": [
    "svm_performance_test = BinaryClassificationPerformance(svm.predict(X_test), y_test, 'svm_test')\n",
    "svm_performance_test.compute_measures()\n",
    "print(svm_performance_test.performance_measures)"
   ]
  },
  {
   "cell_type": "markdown",
   "id": "73e79789",
   "metadata": {},
   "source": [
    "### MODEL: Ridge Regression Classifier"
   ]
  },
  {
   "cell_type": "code",
   "execution_count": 20,
   "id": "85526434",
   "metadata": {},
   "outputs": [
    {
     "name": "stdout",
     "output_type": "stream",
     "text": [
      "{'Pos': 2504, 'Neg': 2496, 'TP': 2035, 'TN': 2021, 'FP': 475, 'FN': 469, 'Accuracy': 0.8112, 'Precision': 0.8107569721115537, 'Recall': 0.8126996805111821, 'desc': 'rdg_test_0(1)'}\n",
      "{'Pos': 2504, 'Neg': 2496, 'TP': 2032, 'TN': 2024, 'FP': 472, 'FN': 472, 'Accuracy': 0.8112, 'Precision': 0.8115015974440895, 'Recall': 0.8115015974440895, 'desc': 'rdg_test_1(5)'}\n",
      "{'Pos': 2504, 'Neg': 2496, 'TP': 2037, 'TN': 2032, 'FP': 464, 'FN': 467, 'Accuracy': 0.8138, 'Precision': 0.8144742103158736, 'Recall': 0.8134984025559105, 'desc': 'rdg_test_2(40)'}\n",
      "{'Pos': 2504, 'Neg': 2496, 'TP': 2067, 'TN': 2048, 'FP': 448, 'FN': 437, 'Accuracy': 0.823, 'Precision': 0.8218687872763419, 'Recall': 0.825479233226837, 'desc': 'rdg_test_3(320)'}\n",
      "{'Pos': 2504, 'Neg': 2496, 'TP': 2155, 'TN': 2130, 'FP': 366, 'FN': 349, 'Accuracy': 0.857, 'Precision': 0.8548195160650536, 'Recall': 0.8606230031948882, 'desc': 'rdg_test_4(2560)'}\n",
      "{'Pos': 2504, 'Neg': 2496, 'TP': 2237, 'TN': 2182, 'FP': 314, 'FN': 267, 'Accuracy': 0.8838, 'Precision': 0.8769110152881223, 'Recall': 0.893370607028754, 'desc': 'rdg_test_5(10240)'}\n"
     ]
    }
   ],
   "source": [
    "rdg_0_performance_test = BinaryClassificationPerformance(rdg_0.predict(X_test), y_test, 'rdg_test_0('+ str(rdg_alphas[0]) + ')')\n",
    "rdg_0_performance_test.compute_measures()\n",
    "print(rdg_0_performance_test.performance_measures)\n",
    "\n",
    "rdg_1_performance_test = BinaryClassificationPerformance(rdg_1.predict(X_test), y_test, 'rdg_test_1('+ str(rdg_alphas[1]) + ')')\n",
    "rdg_1_performance_test.compute_measures()\n",
    "print(rdg_1_performance_test.performance_measures)\n",
    "\n",
    "rdg_2_performance_test = BinaryClassificationPerformance(rdg_2.predict(X_test), y_test, 'rdg_test_2('+ str(rdg_alphas[2]) + ')')\n",
    "rdg_2_performance_test.compute_measures()\n",
    "print(rdg_2_performance_test.performance_measures)\n",
    "\n",
    "rdg_3_performance_test = BinaryClassificationPerformance(rdg_3.predict(X_test), y_test, 'rdg_test_3('+ str(rdg_alphas[3]) + ')')\n",
    "rdg_3_performance_test.compute_measures()\n",
    "print(rdg_3_performance_test.performance_measures)\n",
    "\n",
    "rdg_4_performance_test = BinaryClassificationPerformance(rdg_4.predict(X_test), y_test, 'rdg_test_4('+ str(rdg_alphas[4]) + ')')\n",
    "rdg_4_performance_test.compute_measures()\n",
    "print(rdg_4_performance_test.performance_measures)\n",
    "\n",
    "rdg_5_performance_test = BinaryClassificationPerformance(rdg_5.predict(X_test), y_test, 'rdg_test_5('+ str(rdg_alphas[5]) + ')')\n",
    "rdg_5_performance_test.compute_measures()\n",
    "print(rdg_5_performance_test.performance_measures)"
   ]
  },
  {
   "cell_type": "code",
   "execution_count": 21,
   "id": "737b3ed3",
   "metadata": {},
   "outputs": [],
   "source": [
    "### Other Models"
   ]
  },
  {
   "cell_type": "code",
   "execution_count": 22,
   "id": "8d1b6327",
   "metadata": {},
   "outputs": [],
   "source": [
    "### logistic regression"
   ]
  },
  {
   "cell_type": "code",
   "execution_count": 23,
   "id": "b5d9a560",
   "metadata": {},
   "outputs": [
    {
     "name": "stdout",
     "output_type": "stream",
     "text": [
      "{'Pos': 2504, 'Neg': 2496, 'TP': 2122, 'TN': 2135, 'FP': 361, 'FN': 382, 'Accuracy': 0.8514, 'Precision': 0.8546113572291583, 'Recall': 0.847444089456869, 'desc': 'lgs_test'}\n"
     ]
    }
   ],
   "source": [
    "lgs_performance_test = BinaryClassificationPerformance(lgs.predict(X_test), y_test, 'lgs_test')\n",
    "lgs_performance_test.compute_measures()\n",
    "print(lgs_performance_test.performance_measures)"
   ]
  },
  {
   "cell_type": "code",
   "execution_count": 24,
   "id": "ded399c1",
   "metadata": {},
   "outputs": [],
   "source": [
    "### Perceptron"
   ]
  },
  {
   "cell_type": "code",
   "execution_count": 25,
   "id": "ccb23cc3",
   "metadata": {},
   "outputs": [
    {
     "name": "stdout",
     "output_type": "stream",
     "text": [
      "{'Pos': 2504, 'Neg': 2496, 'TP': 2119, 'TN': 2134, 'FP': 362, 'FN': 385, 'Accuracy': 0.8506, 'Precision': 0.8540910923014914, 'Recall': 0.8462460063897763, 'desc': 'prc_test'}\n"
     ]
    }
   ],
   "source": [
    "prc_performance_test = BinaryClassificationPerformance(prc.predict(X_test), y_test, 'prc_test')\n",
    "prc_performance_test.compute_measures()\n",
    "print(prc_performance_test.performance_measures)"
   ]
  },
  {
   "cell_type": "code",
   "execution_count": 26,
   "id": "e3b40953",
   "metadata": {},
   "outputs": [],
   "source": [
    "### Naive Bayes"
   ]
  },
  {
   "cell_type": "code",
   "execution_count": 27,
   "id": "590f9684",
   "metadata": {},
   "outputs": [
    {
     "name": "stdout",
     "output_type": "stream",
     "text": [
      "{'Pos': 2504, 'Neg': 2496, 'TP': 2203, 'TN': 2125, 'FP': 371, 'FN': 301, 'Accuracy': 0.8656, 'Precision': 0.8558663558663558, 'Recall': 0.8797923322683706, 'desc': 'nbs_test'}\n"
     ]
    }
   ],
   "source": [
    "nbs_performance_test = BinaryClassificationPerformance(nbs.predict(X_test), y_test, 'nbs_test')\n",
    "nbs_performance_test.compute_measures()\n",
    "print(nbs_performance_test.performance_measures)"
   ]
  },
  {
   "cell_type": "code",
   "execution_count": 28,
   "id": "936ffd9a",
   "metadata": {},
   "outputs": [],
   "source": [
    "### Random Forest Classifier"
   ]
  },
  {
   "cell_type": "code",
   "execution_count": 29,
   "id": "a2d02030",
   "metadata": {},
   "outputs": [
    {
     "name": "stdout",
     "output_type": "stream",
     "text": [
      "{'Pos': 2504, 'Neg': 2496, 'TP': 2171, 'TN': 1791, 'FP': 705, 'FN': 333, 'Accuracy': 0.7924, 'Precision': 0.7548678720445062, 'Recall': 0.8670127795527156, 'desc': 'rdf_test'}\n"
     ]
    }
   ],
   "source": [
    "rdf_performance_test = BinaryClassificationPerformance(rdf.predict(X_test), y_test, 'rdf_test')\n",
    "rdf_performance_test.compute_measures()\n",
    "print(rdf_performance_test.performance_measures)"
   ]
  },
  {
   "cell_type": "markdown",
   "id": "460586eb",
   "metadata": {},
   "source": [
    "### ROC plot to compare performance of various models and fits"
   ]
  },
  {
   "cell_type": "code",
   "execution_count": 30,
   "id": "39ac4fd7",
   "metadata": {},
   "outputs": [
    {
     "data": {
      "image/png": "[encoded data removed]",
      "text/plain": [
       "<Figure size 640x480 with 1 Axes>"
      ]
     },
     "metadata": {},
     "output_type": "display_data"
    }
   ],
   "source": [
    "fits = [svm_performance_test, lgs_performance_test, prc_performance_test, nbs_performance_test, rdf_performance_test, rdg_1_performance_test, rdg_2_performance_test, rdg_3_performance_test, rdg_4_performance_test, rdg_5_performance_test]\n",
    "\n",
    "for fit in fits:\n",
    "    plt.plot(fit.performance_measures['FP'] / fit.performance_measures['Neg'], \n",
    "             fit.performance_measures['TP'] / fit.performance_measures['Pos'], 'bo')\n",
    "    plt.text(fit.performance_measures['FP'] / fit.performance_measures['Neg'], \n",
    "             fit.performance_measures['TP'] / fit.performance_measures['Pos'], fit.desc)\n",
    "plt.axis([0, 1, 0, 1])\n",
    "plt.title('(Alteration)ROC plot: Test set')\n",
    "plt.xlabel('False positive rate')\n",
    "plt.ylabel('True positive rate')\n",
    "plt.show()"
   ]
  },
  {
   "cell_type": "markdown",
   "id": "42816187",
   "metadata": {},
   "source": [
    "# <span style=\"color:red\">SUBMISSION</span>"
   ]
  },
  {
   "cell_type": "code",
   "execution_count": 31,
   "id": "539d7960",
   "metadata": {},
   "outputs": [
    {
     "name": "stdout",
     "output_type": "stream",
     "text": [
      "movie_data is: <class 'pandas.core.frame.DataFrame'>\n",
      "movie_data has 25000 rows and 2 columns \n",
      "\n",
      "the data types for each of the columns in movie_data:\n",
      "id        object\n",
      "review    object\n",
      "dtype: object \n",
      "\n",
      "Shape of CountVectorizer X:\n",
      "(25000, 10000)\n",
      "Look at a few rows of the new quantitative features: \n",
      "   word_count  punc_count\n",
      "0         131           5\n",
      "1         169          15\n",
      "2         176          18\n",
      "3         112           5\n",
      "4         133           8\n",
      "5         331          20\n",
      "6         121          18\n",
      "7         230          22\n",
      "8          59           3\n",
      "9         224          14\n",
      "Size of combined bag of words and new quantitative variables matrix:\n",
      "(25000, 10007)\n",
      "(25000, 10007)\n",
      "Shape of X_test for submission:\n",
      "(25000, 10007)\n",
      "SUCCESS!\n",
      "Number of rows in the submission test set (should be 25,000): \n"
     ]
    }
   ],
   "source": [
    "# read in test data for submission\n",
    "# CHANGE FILE PATH and my_random_seed number (any integer other than 74 will do): \n",
    "raw_data, X_test_submission = process_raw_data(fn='../moviereviews_test.tsv', my_random_seed=713, test=True)\n",
    "print(\"Number of rows in the submission test set (should be 25,000): \")"
   ]
  },
  {
   "cell_type": "code",
   "execution_count": 32,
   "id": "a08ecbaf",
   "metadata": {},
   "outputs": [],
   "source": [
    "# I am choosing the Ridge Regression Classifier model(alpha=5120) fit, which is in the `rdg` object."
   ]
  },
  {
   "cell_type": "code",
   "execution_count": 33,
   "id": "8d246c22",
   "metadata": {},
   "outputs": [
    {
     "name": "stdout",
     "output_type": "stream",
     "text": [
      "0.50264\n"
     ]
    }
   ],
   "source": [
    "# store the id from the raw data\n",
    "my_submission = pd.DataFrame(raw_data[\"id\"])\n",
    "# concatenate predictions to the id\n",
    "my_submission[\"Prediction\"] = rdg_5.predict(X_test_submission)\n",
    "# look at the proportion of positive predictions\n",
    "print(my_submission['Prediction'].mean())"
   ]
  },
  {
   "cell_type": "code",
   "execution_count": 34,
   "id": "9e724f6e",
   "metadata": {},
   "outputs": [
    {
     "data": {
      "text/html": [
       "<div>\n",
       "<style scoped>\n",
       "    .dataframe tbody tr th:only-of-type {\n",
       "        vertical-align: middle;\n",
       "    }\n",
       "\n",
       "    .dataframe tbody tr th {\n",
       "        vertical-align: top;\n",
       "    }\n",
       "\n",
       "    .dataframe thead th {\n",
       "        text-align: right;\n",
       "    }\n",
       "</style>\n",
       "<table border=\"1\" class=\"dataframe\">\n",
       "  <thead>\n",
       "    <tr style=\"text-align: right;\">\n",
       "      <th></th>\n",
       "      <th>id</th>\n",
       "      <th>Prediction</th>\n",
       "    </tr>\n",
       "  </thead>\n",
       "  <tbody>\n",
       "    <tr>\n",
       "      <th>0</th>\n",
       "      <td>12311_10</td>\n",
       "      <td>1</td>\n",
       "    </tr>\n",
       "    <tr>\n",
       "      <th>1</th>\n",
       "      <td>8348_2</td>\n",
       "      <td>0</td>\n",
       "    </tr>\n",
       "    <tr>\n",
       "      <th>2</th>\n",
       "      <td>5828_4</td>\n",
       "      <td>0</td>\n",
       "    </tr>\n",
       "    <tr>\n",
       "      <th>3</th>\n",
       "      <td>7186_2</td>\n",
       "      <td>1</td>\n",
       "    </tr>\n",
       "    <tr>\n",
       "      <th>4</th>\n",
       "      <td>12128_7</td>\n",
       "      <td>1</td>\n",
       "    </tr>\n",
       "  </tbody>\n",
       "</table>\n",
       "</div>"
      ],
      "text/plain": [
       "         id  Prediction\n",
       "0  12311_10           1\n",
       "1    8348_2           0\n",
       "2    5828_4           0\n",
       "3    7186_2           1\n",
       "4   12128_7           1"
      ]
     },
     "execution_count": 34,
     "metadata": {},
     "output_type": "execute_result"
    }
   ],
   "source": [
    "my_submission.head(5)"
   ]
  },
  {
   "cell_type": "code",
   "execution_count": 35,
   "id": "94d558f8",
   "metadata": {},
   "outputs": [
    {
     "data": {
      "text/plain": [
       "(25000, 2)"
      ]
     },
     "execution_count": 35,
     "metadata": {},
     "output_type": "execute_result"
    }
   ],
   "source": [
    "my_submission.shape"
   ]
  },
  {
   "cell_type": "code",
   "execution_count": 37,
   "id": "d6fb2846",
   "metadata": {},
   "outputs": [],
   "source": [
    "# export submission file as pdf\n",
    "# CHANGE FILE PATH: \n",
    "my_submission.to_csv('moviereviews_submission_3rd.csv', index=False)"
   ]
  },
  {
   "cell_type": "code",
   "execution_count": null,
   "id": "e565a1b6",
   "metadata": {},
   "outputs": [],
   "source": []
  }
 ],
 "metadata": {
  "kernelspec": {
   "display_name": "Python 3 (ipykernel)",
   "language": "python",
   "name": "python3"
  },
  "language_info": {
   "codemirror_mode": {
    "name": "ipython",
    "version": 3
   },
   "file_extension": ".py",
   "mimetype": "text/x-python",
   "name": "python",
   "nbconvert_exporter": "python",
   "pygments_lexer": "ipython3",
   "version": "3.9.13"
  }
 },
 "nbformat": 4,
 "nbformat_minor": 5
}
